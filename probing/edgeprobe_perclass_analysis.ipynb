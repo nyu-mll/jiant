{
 "cells": [
  {
   "cell_type": "markdown",
   "metadata": {},
   "source": [
    "# Edge Probing Per-Label Analysis"
   ]
  },
  {
   "cell_type": "code",
   "execution_count": 1,
   "metadata": {},
   "outputs": [],
   "source": [
    "import sys, os, re, json\n",
    "import itertools\n",
    "import collections\n",
    "from importlib import reload\n",
    "import pandas as pd\n",
    "import numpy as np\n",
    "from sklearn import metrics"
   ]
  },
  {
   "cell_type": "code",
   "execution_count": 2,
   "metadata": {},
   "outputs": [],
   "source": [
    "import datetime\n",
    "def get_compact_timestamp():\n",
    "    now = datetime.datetime.now()\n",
    "    return now.strftime(\"%Y%m%d.%H%M%S\")"
   ]
  },
  {
   "cell_type": "code",
   "execution_count": 3,
   "metadata": {},
   "outputs": [
    {
     "data": {
      "text/html": [
       "\n",
       "    <div class=\"bk-root\">\n",
       "        <a href=\"https://bokeh.pydata.org\" target=\"_blank\" class=\"bk-logo bk-logo-small bk-logo-notebook\"></a>\n",
       "        <span id=\"e2fadd8d-c59f-445e-b77a-3e754b430ff8\">Loading BokehJS ...</span>\n",
       "    </div>"
      ]
     },
     "metadata": {},
     "output_type": "display_data"
    },
    {
     "data": {
      "application/javascript": [
       "\n",
       "(function(root) {\n",
       "  function now() {\n",
       "    return new Date();\n",
       "  }\n",
       "\n",
       "  var force = true;\n",
       "\n",
       "  if (typeof (root._bokeh_onload_callbacks) === \"undefined\" || force === true) {\n",
       "    root._bokeh_onload_callbacks = [];\n",
       "    root._bokeh_is_loading = undefined;\n",
       "  }\n",
       "\n",
       "  var JS_MIME_TYPE = 'application/javascript';\n",
       "  var HTML_MIME_TYPE = 'text/html';\n",
       "  var EXEC_MIME_TYPE = 'application/vnd.bokehjs_exec.v0+json';\n",
       "  var CLASS_NAME = 'output_bokeh rendered_html';\n",
       "\n",
       "  /**\n",
       "   * Render data to the DOM node\n",
       "   */\n",
       "  function render(props, node) {\n",
       "    var script = document.createElement(\"script\");\n",
       "    node.appendChild(script);\n",
       "  }\n",
       "\n",
       "  /**\n",
       "   * Handle when an output is cleared or removed\n",
       "   */\n",
       "  function handleClearOutput(event, handle) {\n",
       "    var cell = handle.cell;\n",
       "\n",
       "    var id = cell.output_area._bokeh_element_id;\n",
       "    var server_id = cell.output_area._bokeh_server_id;\n",
       "    // Clean up Bokeh references\n",
       "    if (id !== undefined) {\n",
       "      Bokeh.index[id].model.document.clear();\n",
       "      delete Bokeh.index[id];\n",
       "    }\n",
       "\n",
       "    if (server_id !== undefined) {\n",
       "      // Clean up Bokeh references\n",
       "      var cmd = \"from bokeh.io.state import curstate; print(curstate().uuid_to_server['\" + server_id + \"'].get_sessions()[0].document.roots[0]._id)\";\n",
       "      cell.notebook.kernel.execute(cmd, {\n",
       "        iopub: {\n",
       "          output: function(msg) {\n",
       "            var element_id = msg.content.text.trim();\n",
       "            Bokeh.index[element_id].model.document.clear();\n",
       "            delete Bokeh.index[element_id];\n",
       "          }\n",
       "        }\n",
       "      });\n",
       "      // Destroy server and session\n",
       "      var cmd = \"import bokeh.io.notebook as ion; ion.destroy_server('\" + server_id + \"')\";\n",
       "      cell.notebook.kernel.execute(cmd);\n",
       "    }\n",
       "  }\n",
       "\n",
       "  /**\n",
       "   * Handle when a new output is added\n",
       "   */\n",
       "  function handleAddOutput(event, handle) {\n",
       "    var output_area = handle.output_area;\n",
       "    var output = handle.output;\n",
       "\n",
       "    // limit handleAddOutput to display_data with EXEC_MIME_TYPE content only\n",
       "    if ((output.output_type != \"display_data\") || (!output.data.hasOwnProperty(EXEC_MIME_TYPE))) {\n",
       "      return\n",
       "    }\n",
       "\n",
       "    var toinsert = output_area.element.find(\".\" + CLASS_NAME.split(' ')[0]);\n",
       "\n",
       "    if (output.metadata[EXEC_MIME_TYPE][\"id\"] !== undefined) {\n",
       "      toinsert[toinsert.length - 1].firstChild.textContent = output.data[JS_MIME_TYPE];\n",
       "      // store reference to embed id on output_area\n",
       "      output_area._bokeh_element_id = output.metadata[EXEC_MIME_TYPE][\"id\"];\n",
       "    }\n",
       "    if (output.metadata[EXEC_MIME_TYPE][\"server_id\"] !== undefined) {\n",
       "      var bk_div = document.createElement(\"div\");\n",
       "      bk_div.innerHTML = output.data[HTML_MIME_TYPE];\n",
       "      var script_attrs = bk_div.children[0].attributes;\n",
       "      for (var i = 0; i < script_attrs.length; i++) {\n",
       "        toinsert[toinsert.length - 1].firstChild.setAttribute(script_attrs[i].name, script_attrs[i].value);\n",
       "      }\n",
       "      // store reference to server id on output_area\n",
       "      output_area._bokeh_server_id = output.metadata[EXEC_MIME_TYPE][\"server_id\"];\n",
       "    }\n",
       "  }\n",
       "\n",
       "  function register_renderer(events, OutputArea) {\n",
       "\n",
       "    function append_mime(data, metadata, element) {\n",
       "      // create a DOM node to render to\n",
       "      var toinsert = this.create_output_subarea(\n",
       "        metadata,\n",
       "        CLASS_NAME,\n",
       "        EXEC_MIME_TYPE\n",
       "      );\n",
       "      this.keyboard_manager.register_events(toinsert);\n",
       "      // Render to node\n",
       "      var props = {data: data, metadata: metadata[EXEC_MIME_TYPE]};\n",
       "      render(props, toinsert[toinsert.length - 1]);\n",
       "      element.append(toinsert);\n",
       "      return toinsert\n",
       "    }\n",
       "\n",
       "    /* Handle when an output is cleared or removed */\n",
       "    events.on('clear_output.CodeCell', handleClearOutput);\n",
       "    events.on('delete.Cell', handleClearOutput);\n",
       "\n",
       "    /* Handle when a new output is added */\n",
       "    events.on('output_added.OutputArea', handleAddOutput);\n",
       "\n",
       "    /**\n",
       "     * Register the mime type and append_mime function with output_area\n",
       "     */\n",
       "    OutputArea.prototype.register_mime_type(EXEC_MIME_TYPE, append_mime, {\n",
       "      /* Is output safe? */\n",
       "      safe: true,\n",
       "      /* Index of renderer in `output_area.display_order` */\n",
       "      index: 0\n",
       "    });\n",
       "  }\n",
       "\n",
       "  // register the mime type if in Jupyter Notebook environment and previously unregistered\n",
       "  if (root.Jupyter !== undefined) {\n",
       "    var events = require('base/js/events');\n",
       "    var OutputArea = require('notebook/js/outputarea').OutputArea;\n",
       "\n",
       "    if (OutputArea.prototype.mime_types().indexOf(EXEC_MIME_TYPE) == -1) {\n",
       "      register_renderer(events, OutputArea);\n",
       "    }\n",
       "  }\n",
       "\n",
       "  \n",
       "  if (typeof (root._bokeh_timeout) === \"undefined\" || force === true) {\n",
       "    root._bokeh_timeout = Date.now() + 5000;\n",
       "    root._bokeh_failed_load = false;\n",
       "  }\n",
       "\n",
       "  var NB_LOAD_WARNING = {'data': {'text/html':\n",
       "     \"<div style='background-color: #fdd'>\\n\"+\n",
       "     \"<p>\\n\"+\n",
       "     \"BokehJS does not appear to have successfully loaded. If loading BokehJS from CDN, this \\n\"+\n",
       "     \"may be due to a slow or bad network connection. Possible fixes:\\n\"+\n",
       "     \"</p>\\n\"+\n",
       "     \"<ul>\\n\"+\n",
       "     \"<li>re-rerun `output_notebook()` to attempt to load from CDN again, or</li>\\n\"+\n",
       "     \"<li>use INLINE resources instead, as so:</li>\\n\"+\n",
       "     \"</ul>\\n\"+\n",
       "     \"<code>\\n\"+\n",
       "     \"from bokeh.resources import INLINE\\n\"+\n",
       "     \"output_notebook(resources=INLINE)\\n\"+\n",
       "     \"</code>\\n\"+\n",
       "     \"</div>\"}};\n",
       "\n",
       "  function display_loaded() {\n",
       "    var el = document.getElementById(\"e2fadd8d-c59f-445e-b77a-3e754b430ff8\");\n",
       "    if (el != null) {\n",
       "      el.textContent = \"BokehJS is loading...\";\n",
       "    }\n",
       "    if (root.Bokeh !== undefined) {\n",
       "      if (el != null) {\n",
       "        el.textContent = \"BokehJS \" + root.Bokeh.version + \" successfully loaded.\";\n",
       "      }\n",
       "    } else if (Date.now() < root._bokeh_timeout) {\n",
       "      setTimeout(display_loaded, 100)\n",
       "    }\n",
       "  }\n",
       "\n",
       "\n",
       "  function run_callbacks() {\n",
       "    try {\n",
       "      root._bokeh_onload_callbacks.forEach(function(callback) { callback() });\n",
       "    }\n",
       "    finally {\n",
       "      delete root._bokeh_onload_callbacks\n",
       "    }\n",
       "    console.info(\"Bokeh: all callbacks have finished\");\n",
       "  }\n",
       "\n",
       "  function load_libs(js_urls, callback) {\n",
       "    root._bokeh_onload_callbacks.push(callback);\n",
       "    if (root._bokeh_is_loading > 0) {\n",
       "      console.log(\"Bokeh: BokehJS is being loaded, scheduling callback at\", now());\n",
       "      return null;\n",
       "    }\n",
       "    if (js_urls == null || js_urls.length === 0) {\n",
       "      run_callbacks();\n",
       "      return null;\n",
       "    }\n",
       "    console.log(\"Bokeh: BokehJS not loaded, scheduling load and callback at\", now());\n",
       "    root._bokeh_is_loading = js_urls.length;\n",
       "    for (var i = 0; i < js_urls.length; i++) {\n",
       "      var url = js_urls[i];\n",
       "      var s = document.createElement('script');\n",
       "      s.src = url;\n",
       "      s.async = false;\n",
       "      s.onreadystatechange = s.onload = function() {\n",
       "        root._bokeh_is_loading--;\n",
       "        if (root._bokeh_is_loading === 0) {\n",
       "          console.log(\"Bokeh: all BokehJS libraries loaded\");\n",
       "          run_callbacks()\n",
       "        }\n",
       "      };\n",
       "      s.onerror = function() {\n",
       "        console.warn(\"failed to load library \" + url);\n",
       "      };\n",
       "      console.log(\"Bokeh: injecting script tag for BokehJS library: \", url);\n",
       "      document.getElementsByTagName(\"head\")[0].appendChild(s);\n",
       "    }\n",
       "  };var element = document.getElementById(\"e2fadd8d-c59f-445e-b77a-3e754b430ff8\");\n",
       "  if (element == null) {\n",
       "    console.log(\"Bokeh: ERROR: autoload.js configured with elementid 'e2fadd8d-c59f-445e-b77a-3e754b430ff8' but no matching script tag was found. \")\n",
       "    return false;\n",
       "  }\n",
       "\n",
       "  var js_urls = [\"https://cdn.pydata.org/bokeh/release/bokeh-0.12.16.min.js\", \"https://cdn.pydata.org/bokeh/release/bokeh-widgets-0.12.16.min.js\", \"https://cdn.pydata.org/bokeh/release/bokeh-tables-0.12.16.min.js\", \"https://cdn.pydata.org/bokeh/release/bokeh-gl-0.12.16.min.js\"];\n",
       "\n",
       "  var inline_js = [\n",
       "    function(Bokeh) {\n",
       "      Bokeh.set_log_level(\"info\");\n",
       "    },\n",
       "    \n",
       "    function(Bokeh) {\n",
       "      \n",
       "    },\n",
       "    function(Bokeh) {\n",
       "      console.log(\"Bokeh: injecting CSS: https://cdn.pydata.org/bokeh/release/bokeh-0.12.16.min.css\");\n",
       "      Bokeh.embed.inject_css(\"https://cdn.pydata.org/bokeh/release/bokeh-0.12.16.min.css\");\n",
       "      console.log(\"Bokeh: injecting CSS: https://cdn.pydata.org/bokeh/release/bokeh-widgets-0.12.16.min.css\");\n",
       "      Bokeh.embed.inject_css(\"https://cdn.pydata.org/bokeh/release/bokeh-widgets-0.12.16.min.css\");\n",
       "      console.log(\"Bokeh: injecting CSS: https://cdn.pydata.org/bokeh/release/bokeh-tables-0.12.16.min.css\");\n",
       "      Bokeh.embed.inject_css(\"https://cdn.pydata.org/bokeh/release/bokeh-tables-0.12.16.min.css\");\n",
       "    }\n",
       "  ];\n",
       "\n",
       "  function run_inline_js() {\n",
       "    \n",
       "    if ((root.Bokeh !== undefined) || (force === true)) {\n",
       "      for (var i = 0; i < inline_js.length; i++) {\n",
       "        inline_js[i].call(root, root.Bokeh);\n",
       "      }if (force === true) {\n",
       "        display_loaded();\n",
       "      }} else if (Date.now() < root._bokeh_timeout) {\n",
       "      setTimeout(run_inline_js, 100);\n",
       "    } else if (!root._bokeh_failed_load) {\n",
       "      console.log(\"Bokeh: BokehJS failed to load within specified timeout.\");\n",
       "      root._bokeh_failed_load = true;\n",
       "    } else if (force !== true) {\n",
       "      var cell = $(document.getElementById(\"e2fadd8d-c59f-445e-b77a-3e754b430ff8\")).parents('.cell').data().cell;\n",
       "      cell.output_area.append_execute_result(NB_LOAD_WARNING)\n",
       "    }\n",
       "\n",
       "  }\n",
       "\n",
       "  if (root._bokeh_is_loading === 0) {\n",
       "    console.log(\"Bokeh: BokehJS loaded, going straight to plotting\");\n",
       "    run_inline_js();\n",
       "  } else {\n",
       "    load_libs(js_urls, function() {\n",
       "      console.log(\"Bokeh: BokehJS plotting callback run at\", now());\n",
       "      run_inline_js();\n",
       "    });\n",
       "  }\n",
       "}(window));"
      ],
      "application/vnd.bokehjs_load.v0+json": "\n(function(root) {\n  function now() {\n    return new Date();\n  }\n\n  var force = true;\n\n  if (typeof (root._bokeh_onload_callbacks) === \"undefined\" || force === true) {\n    root._bokeh_onload_callbacks = [];\n    root._bokeh_is_loading = undefined;\n  }\n\n  \n\n  \n  if (typeof (root._bokeh_timeout) === \"undefined\" || force === true) {\n    root._bokeh_timeout = Date.now() + 5000;\n    root._bokeh_failed_load = false;\n  }\n\n  var NB_LOAD_WARNING = {'data': {'text/html':\n     \"<div style='background-color: #fdd'>\\n\"+\n     \"<p>\\n\"+\n     \"BokehJS does not appear to have successfully loaded. If loading BokehJS from CDN, this \\n\"+\n     \"may be due to a slow or bad network connection. Possible fixes:\\n\"+\n     \"</p>\\n\"+\n     \"<ul>\\n\"+\n     \"<li>re-rerun `output_notebook()` to attempt to load from CDN again, or</li>\\n\"+\n     \"<li>use INLINE resources instead, as so:</li>\\n\"+\n     \"</ul>\\n\"+\n     \"<code>\\n\"+\n     \"from bokeh.resources import INLINE\\n\"+\n     \"output_notebook(resources=INLINE)\\n\"+\n     \"</code>\\n\"+\n     \"</div>\"}};\n\n  function display_loaded() {\n    var el = document.getElementById(\"e2fadd8d-c59f-445e-b77a-3e754b430ff8\");\n    if (el != null) {\n      el.textContent = \"BokehJS is loading...\";\n    }\n    if (root.Bokeh !== undefined) {\n      if (el != null) {\n        el.textContent = \"BokehJS \" + root.Bokeh.version + \" successfully loaded.\";\n      }\n    } else if (Date.now() < root._bokeh_timeout) {\n      setTimeout(display_loaded, 100)\n    }\n  }\n\n\n  function run_callbacks() {\n    try {\n      root._bokeh_onload_callbacks.forEach(function(callback) { callback() });\n    }\n    finally {\n      delete root._bokeh_onload_callbacks\n    }\n    console.info(\"Bokeh: all callbacks have finished\");\n  }\n\n  function load_libs(js_urls, callback) {\n    root._bokeh_onload_callbacks.push(callback);\n    if (root._bokeh_is_loading > 0) {\n      console.log(\"Bokeh: BokehJS is being loaded, scheduling callback at\", now());\n      return null;\n    }\n    if (js_urls == null || js_urls.length === 0) {\n      run_callbacks();\n      return null;\n    }\n    console.log(\"Bokeh: BokehJS not loaded, scheduling load and callback at\", now());\n    root._bokeh_is_loading = js_urls.length;\n    for (var i = 0; i < js_urls.length; i++) {\n      var url = js_urls[i];\n      var s = document.createElement('script');\n      s.src = url;\n      s.async = false;\n      s.onreadystatechange = s.onload = function() {\n        root._bokeh_is_loading--;\n        if (root._bokeh_is_loading === 0) {\n          console.log(\"Bokeh: all BokehJS libraries loaded\");\n          run_callbacks()\n        }\n      };\n      s.onerror = function() {\n        console.warn(\"failed to load library \" + url);\n      };\n      console.log(\"Bokeh: injecting script tag for BokehJS library: \", url);\n      document.getElementsByTagName(\"head\")[0].appendChild(s);\n    }\n  };var element = document.getElementById(\"e2fadd8d-c59f-445e-b77a-3e754b430ff8\");\n  if (element == null) {\n    console.log(\"Bokeh: ERROR: autoload.js configured with elementid 'e2fadd8d-c59f-445e-b77a-3e754b430ff8' but no matching script tag was found. \")\n    return false;\n  }\n\n  var js_urls = [\"https://cdn.pydata.org/bokeh/release/bokeh-0.12.16.min.js\", \"https://cdn.pydata.org/bokeh/release/bokeh-widgets-0.12.16.min.js\", \"https://cdn.pydata.org/bokeh/release/bokeh-tables-0.12.16.min.js\", \"https://cdn.pydata.org/bokeh/release/bokeh-gl-0.12.16.min.js\"];\n\n  var inline_js = [\n    function(Bokeh) {\n      Bokeh.set_log_level(\"info\");\n    },\n    \n    function(Bokeh) {\n      \n    },\n    function(Bokeh) {\n      console.log(\"Bokeh: injecting CSS: https://cdn.pydata.org/bokeh/release/bokeh-0.12.16.min.css\");\n      Bokeh.embed.inject_css(\"https://cdn.pydata.org/bokeh/release/bokeh-0.12.16.min.css\");\n      console.log(\"Bokeh: injecting CSS: https://cdn.pydata.org/bokeh/release/bokeh-widgets-0.12.16.min.css\");\n      Bokeh.embed.inject_css(\"https://cdn.pydata.org/bokeh/release/bokeh-widgets-0.12.16.min.css\");\n      console.log(\"Bokeh: injecting CSS: https://cdn.pydata.org/bokeh/release/bokeh-tables-0.12.16.min.css\");\n      Bokeh.embed.inject_css(\"https://cdn.pydata.org/bokeh/release/bokeh-tables-0.12.16.min.css\");\n    }\n  ];\n\n  function run_inline_js() {\n    \n    if ((root.Bokeh !== undefined) || (force === true)) {\n      for (var i = 0; i < inline_js.length; i++) {\n        inline_js[i].call(root, root.Bokeh);\n      }if (force === true) {\n        display_loaded();\n      }} else if (Date.now() < root._bokeh_timeout) {\n      setTimeout(run_inline_js, 100);\n    } else if (!root._bokeh_failed_load) {\n      console.log(\"Bokeh: BokehJS failed to load within specified timeout.\");\n      root._bokeh_failed_load = true;\n    } else if (force !== true) {\n      var cell = $(document.getElementById(\"e2fadd8d-c59f-445e-b77a-3e754b430ff8\")).parents('.cell').data().cell;\n      cell.output_area.append_execute_result(NB_LOAD_WARNING)\n    }\n\n  }\n\n  if (root._bokeh_is_loading === 0) {\n    console.log(\"Bokeh: BokehJS loaded, going straight to plotting\");\n    run_inline_js();\n  } else {\n    load_libs(js_urls, function() {\n      console.log(\"Bokeh: BokehJS plotting callback run at\", now());\n      run_inline_js();\n    });\n  }\n}(window));"
     },
     "metadata": {},
     "output_type": "display_data"
    }
   ],
   "source": [
    "import bokeh\n",
    "import bokeh.plotting as bp\n",
    "bokeh.io.output_notebook()"
   ]
  },
  {
   "cell_type": "markdown",
   "metadata": {},
   "source": [
    "The latest runs are here:"
   ]
  },
  {
   "cell_type": "code",
   "execution_count": 4,
   "metadata": {},
   "outputs": [
    {
     "name": "stdout",
     "output_type": "stream",
     "text": [
      "\u001b[0m\u001b[01;34melmo-chars-edges-constituent-ptb\u001b[0m/  \u001b[01;34melmo-full-edges-constituent-ptb\u001b[0m/\r\n",
      "\u001b[01;34melmo-chars-edges-coref-ontonotes\u001b[0m/  \u001b[01;34melmo-full-edges-coref-ontonotes\u001b[0m/\r\n",
      "\u001b[01;34melmo-chars-edges-dep-labeling\u001b[0m/     \u001b[01;34melmo-full-edges-dep-labeling\u001b[0m/\r\n",
      "\u001b[01;34melmo-chars-edges-dpr\u001b[0m/              \u001b[01;34melmo-full-edges-dpr\u001b[0m/\r\n",
      "\u001b[01;34melmo-chars-edges-ner-conll2003\u001b[0m/    \u001b[01;34melmo-full-edges-ner-conll2003\u001b[0m/\r\n",
      "\u001b[01;34melmo-chars-edges-spr2\u001b[0m/             \u001b[01;34melmo-full-edges-spr2\u001b[0m/\r\n",
      "\u001b[01;34melmo-chars-edges-srl-conll2005\u001b[0m/    \u001b[01;34melmo-full-edges-srl-conll2005\u001b[0m/\r\n"
     ]
    }
   ],
   "source": [
    "ls /nfs/jsalt/home/iftenney/exp/edges-20180727/"
   ]
  },
  {
   "cell_type": "code",
   "execution_count": 5,
   "metadata": {},
   "outputs": [
    {
     "data": {
      "text/plain": [
       "['elmo-full-edges-constituent-ptb',\n",
       " 'elmo-full-edges-ner-conll2003',\n",
       " 'elmo-full-edges-dep-labeling',\n",
       " 'elmo-chars-edges-ner-conll2003',\n",
       " 'elmo-chars-edges-constituent-ptb',\n",
       " 'elmo-chars-edges-spr2',\n",
       " 'elmo-chars-edges-dep-labeling',\n",
       " 'elmo-full-edges-srl-conll2005',\n",
       " 'elmo-chars-edges-dpr',\n",
       " 'elmo-full-edges-spr2',\n",
       " 'elmo-chars-edges-srl-conll2005',\n",
       " 'elmo-chars-edges-coref-ontonotes',\n",
       " 'elmo-full-edges-dpr',\n",
       " 'elmo-full-edges-coref-ontonotes']"
      ]
     },
     "execution_count": 5,
     "metadata": {},
     "output_type": "execute_result"
    }
   ],
   "source": [
    "top_expt_dir = \"/nfs/jsalt/home/iftenney/exp/edges-20180727/\"\n",
    "all_expt_dirs = os.listdir(top_expt_dir)\n",
    "all_expt_dirs"
   ]
  },
  {
   "cell_type": "code",
   "execution_count": 6,
   "metadata": {},
   "outputs": [
    {
     "data": {
      "text/plain": [
       "{'edges-constituent-ptb',\n",
       " 'edges-coref-ontonotes',\n",
       " 'edges-dep-labeling',\n",
       " 'edges-dpr',\n",
       " 'edges-ner-conll2003',\n",
       " 'edges-spr2',\n",
       " 'edges-srl-conll2005'}"
      ]
     },
     "execution_count": 6,
     "metadata": {},
     "output_type": "execute_result"
    }
   ],
   "source": [
    "task_names = {re.sub(r\"elmo-\\w+-\", \"\", s) for s in all_expt_dirs}\n",
    "task_names"
   ]
  },
  {
   "cell_type": "code",
   "execution_count": 8,
   "metadata": {},
   "outputs": [
    {
     "name": "stdout",
     "output_type": "stream",
     "text": [
      "Loading vocabulary from /nfs/jsalt/home/iftenney/exp/edges-20180727/elmo-chars-edges-srl-conll2005/vocab\n",
      "Loading predictions from /nfs/jsalt/home/iftenney/exp/edges-20180727/elmo-chars-edges-srl-conll2005/run/edges-srl-conll2005_val.json\n",
      "Loading vocabulary from /nfs/jsalt/home/iftenney/exp/edges-20180727/elmo-full-edges-srl-conll2005/vocab\n",
      "Loading predictions from /nfs/jsalt/home/iftenney/exp/edges-20180727/elmo-full-edges-srl-conll2005/run/edges-srl-conll2005_val.json\n",
      "Generating wide-form target DataFrame. May be slow... Done!\n",
      "Generating wide-form target DataFrame. May be slow... Done!\n",
      "Done!\n"
     ]
    }
   ],
   "source": [
    "import analysis\n",
    "reload(analysis)\n",
    "\n",
    "def load_pair_preds(task_name, split_name=\"run\"):\n",
    "    lexi_path = os.path.join(top_expt_dir, \"elmo-chars-\" + task_name, \"run\")\n",
    "    full_path = os.path.join(top_expt_dir, \"elmo-full-\" + task_name, \"run\")\n",
    "    return (analysis.Predictions.from_run(lexi_path, task_name, split_name),\n",
    "            analysis.Predictions.from_run(full_path, task_name, split_name))\n",
    "\n",
    "task_name = 'edges-srl-conll2005'\n",
    "pair = load_pair_preds(task_name, 'val')\n",
    "pair[0].target_df_wide  # force load\n",
    "pair[1].target_df_wide  # force load\n",
    "print(\"Done!\")"
   ]
  },
  {
   "cell_type": "code",
   "execution_count": 11,
   "metadata": {},
   "outputs": [
    {
     "name": "stdout",
     "output_type": "stream",
     "text": [
      "Scoring base run...\n",
      "Scoring expt run...\n"
     ]
    },
    {
     "name": "stderr",
     "output_type": "stream",
     "text": [
      "/usr/share/anaconda3/lib/python3.6/site-packages/sklearn/metrics/classification.py:1135: UndefinedMetricWarning: F-score is ill-defined and being set to 0.0 due to no predicted samples.\n",
      "  'precision', 'predicted', average, warn_for)\n"
     ]
    },
    {
     "name": "stdout",
     "output_type": "stream",
     "text": [
      "Done scoring!\n",
      "Copying file:///tmp/chart.edges-srl-conll2005.label.20180731.204139.html [Content-Type=text/html]...\n",
      "/ [1 files][ 34.0 KiB/ 34.0 KiB]                                                \n",
      "Operation completed over 1 objects/34.0 KiB.                                     \n",
      "Updated ACL on gs://jsalt-scratch/iftenney/plots/chart.edges-srl-conll2005.label.20180731.204139.html\n",
      "Public URL: https://storage.googleapis.com/jsalt-scratch/iftenney/plots/chart.edges-srl-conll2005.label.20180731.204139.html\n"
     ]
    },
    {
     "data": {
      "text/html": [
       "\n",
       "<div class=\"bk-root\">\n",
       "    <div class=\"bk-plotdiv\" id=\"0f9db00e-a23e-4dda-9462-c8b461c188eb\"></div>\n",
       "</div>"
      ]
     },
     "metadata": {},
     "output_type": "display_data"
    },
    {
     "data": {
      "application/javascript": [
       "(function(root) {\n",
       "  function embed_document(root) {\n",
       "    \n",
       "  var docs_json = {\"f54c5502-081b-48ff-b00c-f5f2fe4e9dd4\":{\"roots\":{\"references\":[{\"attributes\":{},\"id\":\"3d7c8861-318b-4928-97d4-b653bd27e74f\",\"type\":\"CategoricalScale\"},{\"attributes\":{\"children\":[{\"id\":\"7d229ffd-d9ac-4dfc-9a46-e8d6ef2ffa78\",\"type\":\"Row\"},{\"id\":\"4a98a48a-6fce-4f8f-99e8-9ada0780aa90\",\"type\":\"Row\"},{\"id\":\"68dc03f9-77a7-4eab-8e25-43e4b2c3b8e7\",\"type\":\"Row\"}]},\"id\":\"410121ee-716e-4ca6-b97e-ed1aceb18470\",\"type\":\"Column\"},{\"attributes\":{},\"id\":\"19793f2b-91d6-4399-87e6-429923151ac3\",\"type\":\"ResetTool\"},{\"attributes\":{\"formatter\":{\"id\":\"073ab0d7-8a7f-48af-9e13-65d85c3a82e3\",\"type\":\"BasicTickFormatter\"},\"plot\":{\"id\":\"05a12a13-5a54-4388-95a3-348e453e5d5f\",\"subtype\":\"Figure\",\"type\":\"Plot\"},\"ticker\":{\"id\":\"32aa9d91-bf6a-4032-88cb-e036b9025002\",\"type\":\"BasicTicker\"}},\"id\":\"ff0927ef-cb7d-4485-ac43-0b8cc7f5db6b\",\"type\":\"LinearAxis\"},{\"attributes\":{\"fill_color\":{\"value\":\"DarkRed\"},\"line_color\":{\"value\":null},\"top\":{\"field\":\"abs_diff_f1\"},\"width\":{\"value\":1.9},\"x\":{\"field\":\"label\"}},\"id\":\"9a1d946e-d4c0-4c26-929d-727b19438c47\",\"type\":\"VBar\"},{\"attributes\":{\"angle\":{\"units\":\"deg\",\"value\":90},\"plot\":{\"id\":\"10fe42bf-d6b6-4d72-9d01-40a104f03f7f\",\"subtype\":\"Figure\",\"type\":\"Plot\"},\"source\":{\"id\":\"6dad912f-3ba6-4764-8f93-dbc1c23a731f\",\"type\":\"ColumnDataSource\"},\"text\":{\"field\":\"fmt_score\"},\"text_align\":\"right\",\"text_baseline\":\"middle\",\"text_font_size\":{\"value\":\"11pt\"},\"x\":{\"field\":\"row_key\"},\"y\":{\"field\":\"f1_score\"},\"y_offset\":{\"value\":-3}},\"id\":\"769298c5-7310-4a97-94ef-926a5135e181\",\"type\":\"LabelSet\"},{\"attributes\":{},\"id\":\"ab3e91b4-44ba-4d34-bffb-09149a03ee2a\",\"type\":\"CategoricalTickFormatter\"},{\"attributes\":{\"data_source\":{\"id\":\"6dad912f-3ba6-4764-8f93-dbc1c23a731f\",\"type\":\"ColumnDataSource\"},\"glyph\":{\"id\":\"0373c7db-bdce-40af-bb22-ec89b0a15bfc\",\"type\":\"VBar\"},\"hover_glyph\":null,\"muted_glyph\":null,\"nonselection_glyph\":{\"id\":\"2092fb9a-6273-4d04-a217-6eca87fa74a8\",\"type\":\"VBar\"},\"selection_glyph\":null,\"view\":{\"id\":\"e98f7dbd-04cc-4b02-8377-d305257244b6\",\"type\":\"CDSView\"}},\"id\":\"c9a56f66-2d7e-4f82-b8d1-1320ea3a8e6b\",\"type\":\"GlyphRenderer\"},{\"attributes\":{},\"id\":\"5b6950fe-03e5-4f12-b9b3-e1c27d03feb1\",\"type\":\"BasicTickFormatter\"},{\"attributes\":{\"factors\":[\"base\",\"expt\"],\"palette\":[\"#3288bd\",\"#99d594\",\"#e6f598\",\"#fee08b\",\"#fc8d59\",\"#d53e4f\"]},\"id\":\"910ff213-cb67-4573-905f-9cf138297b0e\",\"type\":\"CategoricalColorMapper\"},{\"attributes\":{\"active_drag\":\"auto\",\"active_inspect\":\"auto\",\"active_scroll\":\"auto\",\"active_tap\":\"auto\",\"tools\":[{\"id\":\"78bf6d17-b07f-4f91-931c-f4277eb8cf93\",\"type\":\"WheelZoomTool\"},{\"id\":\"45c86c65-c2ce-47bd-9bf5-04259fb12df9\",\"type\":\"WheelPanTool\"},{\"id\":\"f1faf2b7-ca43-44c1-934d-241fe5b7ed4b\",\"type\":\"PanTool\"},{\"id\":\"e776645a-62b1-4620-ba3d-5d32e7f9e2d8\",\"type\":\"SaveTool\"},{\"id\":\"630dcbf7-9525-40c7-8057-770e5a6dd78f\",\"type\":\"ResetTool\"}]},\"id\":\"58d6459a-6db8-48c2-b01b-ac0549ee3820\",\"type\":\"Toolbar\"},{\"attributes\":{\"children\":[{\"id\":\"58eeee33-18ba-4743-9c96-d44884bda111\",\"type\":\"WidgetBox\"},{\"id\":\"3489cf00-cc4a-49a0-ae3b-6d8aef677439\",\"type\":\"Row\"}]},\"id\":\"5e99150a-69b2-498e-918e-344319d7bd10\",\"type\":\"Column\"},{\"attributes\":{\"fill_color\":{\"value\":\"orange\"},\"line_color\":{\"value\":null},\"top\":{\"field\":\"true_count\"},\"width\":{\"value\":1.9},\"x\":{\"field\":\"label\"}},\"id\":\"22e6ab7b-799c-4b16-9923-bce79caadde0\",\"type\":\"VBar\"},{\"attributes\":{\"children\":[{\"id\":\"05a12a13-5a54-4388-95a3-348e453e5d5f\",\"subtype\":\"Figure\",\"type\":\"Plot\"}]},\"id\":\"68dc03f9-77a7-4eab-8e25-43e4b2c3b8e7\",\"type\":\"Row\"},{\"attributes\":{\"fill_color\":{\"field\":\"run\",\"transform\":{\"id\":\"910ff213-cb67-4573-905f-9cf138297b0e\",\"type\":\"CategoricalColorMapper\"}},\"line_color\":{\"value\":null},\"top\":{\"field\":\"f1_score\"},\"width\":{\"value\":0.95},\"x\":{\"field\":\"row_key\"}},\"id\":\"0373c7db-bdce-40af-bb22-ec89b0a15bfc\",\"type\":\"VBar\"},{\"attributes\":{},\"id\":\"42fdc65b-dc72-4bcb-acd1-988a0a1b8673\",\"type\":\"WheelPanTool\"},{\"attributes\":{\"children\":[{\"id\":\"a656f2bc-39a9-4516-8f1e-941de20fa756\",\"subtype\":\"Figure\",\"type\":\"Plot\"}]},\"id\":\"4a98a48a-6fce-4f8f-99e8-9ada0780aa90\",\"type\":\"Row\"},{\"attributes\":{\"source\":{\"id\":\"85298871-bbff-468d-9aef-724567a406ac\",\"type\":\"ColumnDataSource\"}},\"id\":\"dfa1cfcc-167c-489f-85ce-cc0a37543052\",\"type\":\"CDSView\"},{\"attributes\":{\"plot\":null,\"text\":\"Counts by label (edges-srl-conll2005)\"},\"id\":\"e2d07f23-9b39-4d36-b651-5465ed376065\",\"type\":\"Title\"},{\"attributes\":{\"fill_alpha\":{\"value\":0.1},\"fill_color\":{\"value\":\"#1f77b4\"},\"line_alpha\":{\"value\":0.1},\"line_color\":{\"value\":\"#1f77b4\"},\"top\":{\"field\":\"f1_score\"},\"width\":{\"value\":0.95},\"x\":{\"field\":\"row_key\"}},\"id\":\"2092fb9a-6273-4d04-a217-6eca87fa74a8\",\"type\":\"VBar\"},{\"attributes\":{\"callback\":null,\"end\":0,\"flipped\":true,\"range_padding\":0.2},\"id\":\"7c5501c1-1881-4f19-b23e-85e5966e6102\",\"type\":\"DataRange1d\"},{\"attributes\":{\"below\":[{\"id\":\"da9c230f-93bf-428a-8065-8b9c3068e4f6\",\"type\":\"CategoricalAxis\"}],\"left\":[{\"id\":\"a2098a89-01a5-46fa-9c41-438cfa9aa8c1\",\"type\":\"LinearAxis\"}],\"plot_height\":350,\"plot_width\":1610,\"renderers\":[{\"id\":\"da9c230f-93bf-428a-8065-8b9c3068e4f6\",\"type\":\"CategoricalAxis\"},{\"id\":\"9e22e748-47d4-4e6b-8139-3a943886feb7\",\"type\":\"Grid\"},{\"id\":\"a2098a89-01a5-46fa-9c41-438cfa9aa8c1\",\"type\":\"LinearAxis\"},{\"id\":\"7ef8680f-b118-43ad-bef2-7c908f801f77\",\"type\":\"Grid\"},{\"id\":\"c9a56f66-2d7e-4f82-b8d1-1320ea3a8e6b\",\"type\":\"GlyphRenderer\"},{\"id\":\"769298c5-7310-4a97-94ef-926a5135e181\",\"type\":\"LabelSet\"}],\"title\":{\"id\":\"159cc594-90a7-4d03-9780-5b489a5f5f6f\",\"type\":\"Title\"},\"toolbar\":{\"id\":\"58d6459a-6db8-48c2-b01b-ac0549ee3820\",\"type\":\"Toolbar\"},\"toolbar_location\":null,\"x_range\":{\"id\":\"10caa66f-8ab9-46eb-8ecd-699286a658fb\",\"type\":\"FactorRange\"},\"x_scale\":{\"id\":\"b838050b-4f95-4fac-98b0-29c725a54803\",\"type\":\"CategoricalScale\"},\"y_range\":{\"id\":\"2a83ba3c-3599-4ec0-9fb5-01a56e8579b1\",\"type\":\"Range1d\"},\"y_scale\":{\"id\":\"1006c80f-bc33-464a-8b86-b6f5bcf457e4\",\"type\":\"LinearScale\"}},\"id\":\"10fe42bf-d6b6-4d72-9d01-40a104f03f7f\",\"subtype\":\"Figure\",\"type\":\"Plot\"},{\"attributes\":{\"formatter\":{\"id\":\"ab3e91b4-44ba-4d34-bffb-09149a03ee2a\",\"type\":\"CategoricalTickFormatter\"},\"major_label_text_color\":{\"value\":null},\"major_label_text_font_size\":{\"value\":\"0pt\"},\"major_tick_line_color\":{\"value\":null},\"plot\":{\"id\":\"a656f2bc-39a9-4516-8f1e-941de20fa756\",\"subtype\":\"Figure\",\"type\":\"Plot\"},\"ticker\":{\"id\":\"77c53527-188e-4703-b9ed-c06fb7f46b71\",\"type\":\"CategoricalTicker\"}},\"id\":\"1581e606-6a98-4547-90ef-f83f90d18d2c\",\"type\":\"CategoricalAxis\"},{\"attributes\":{\"children\":[{\"id\":\"6407a16a-40a6-41a6-be69-26c0c6cffe34\",\"type\":\"Div\"}],\"width\":600},\"id\":\"58eeee33-18ba-4743-9c96-d44884bda111\",\"type\":\"WidgetBox\"},{\"attributes\":{\"callback\":null,\"factors\":[[\"-\",\"base\"],[\"-\",\"expt\"],[\"A0\",\"base\"],[\"A0\",\"expt\"],[\"A1\",\"base\"],[\"A1\",\"expt\"],[\"A2\",\"base\"],[\"A2\",\"expt\"],[\"A3\",\"base\"],[\"A3\",\"expt\"],[\"A4\",\"base\"],[\"A4\",\"expt\"],[\"A5\",\"base\"],[\"A5\",\"expt\"],[\"AA\",\"base\"],[\"AA\",\"expt\"],[\"AM\",\"base\"],[\"AM\",\"expt\"],[\"AM-ADV\",\"base\"],[\"AM-ADV\",\"expt\"],[\"AM-CAU\",\"base\"],[\"AM-CAU\",\"expt\"],[\"AM-DIR\",\"base\"],[\"AM-DIR\",\"expt\"],[\"AM-DIS\",\"base\"],[\"AM-DIS\",\"expt\"],[\"AM-EXT\",\"base\"],[\"AM-EXT\",\"expt\"],[\"AM-LOC\",\"base\"],[\"AM-LOC\",\"expt\"],[\"AM-MNR\",\"base\"],[\"AM-MNR\",\"expt\"],[\"AM-MOD\",\"base\"],[\"AM-MOD\",\"expt\"],[\"AM-NEG\",\"base\"],[\"AM-NEG\",\"expt\"],[\"AM-PNC\",\"base\"],[\"AM-PNC\",\"expt\"],[\"AM-PRD\",\"base\"],[\"AM-PRD\",\"expt\"],[\"AM-REC\",\"base\"],[\"AM-REC\",\"expt\"],[\"AM-TM\",\"base\"],[\"AM-TM\",\"expt\"],[\"AM-TMP\",\"base\"],[\"AM-TMP\",\"expt\"]],\"range_padding\":0.5,\"range_padding_units\":\"absolute\"},\"id\":\"10caa66f-8ab9-46eb-8ecd-699286a658fb\",\"type\":\"FactorRange\"},{\"attributes\":{},\"id\":\"da92c8af-36b2-4aa8-9713-f9a30b62664a\",\"type\":\"Selection\"},{\"attributes\":{},\"id\":\"2beca7fd-ee84-4526-9acb-be76ca5ba690\",\"type\":\"CategoricalScale\"},{\"attributes\":{},\"id\":\"fcce1e92-ed6b-4b7a-bf70-8449b316ae4d\",\"type\":\"BasicTickFormatter\"},{\"attributes\":{\"plot\":{\"id\":\"a656f2bc-39a9-4516-8f1e-941de20fa756\",\"subtype\":\"Figure\",\"type\":\"Plot\"},\"source\":{\"id\":\"85298871-bbff-468d-9aef-724567a406ac\",\"type\":\"ColumnDataSource\"},\"text\":{\"field\":\"_rel_diff_label_text\"},\"text_align\":\"center\",\"text_baseline\":\"middle\",\"x\":{\"field\":\"label\"},\"y\":{\"field\":\"rel_diff_f1\"},\"y_offset\":{\"field\":\"_diff_label_offset\"}},\"id\":\"ddf8c741-4611-4a7b-9128-b1ea5d1039c3\",\"type\":\"LabelSet\"},{\"attributes\":{\"source\":{\"id\":\"6dad912f-3ba6-4764-8f93-dbc1c23a731f\",\"type\":\"ColumnDataSource\"}},\"id\":\"e98f7dbd-04cc-4b02-8377-d305257244b6\",\"type\":\"CDSView\"},{\"attributes\":{\"source\":{\"id\":\"85298871-bbff-468d-9aef-724567a406ac\",\"type\":\"ColumnDataSource\"}},\"id\":\"4138f9ee-752a-494c-a9a5-55423a03acfa\",\"type\":\"CDSView\"},{\"attributes\":{\"plot\":null,\"text\":\"Performance by label (edges-srl-conll2005)\"},\"id\":\"159cc594-90a7-4d03-9780-5b489a5f5f6f\",\"type\":\"Title\"},{\"attributes\":{},\"id\":\"1868379d-03bd-43d7-9f9c-3fee13b73aa5\",\"type\":\"Selection\"},{\"attributes\":{\"callback\":null,\"end\":1.1,\"start\":-1.1},\"id\":\"0dcff899-aecc-4bd8-96a1-b784ec2b1be7\",\"type\":\"DataRange1d\"},{\"attributes\":{},\"id\":\"3641b517-bebc-4f6a-a4fc-830f3a748e67\",\"type\":\"WheelPanTool\"},{\"attributes\":{},\"id\":\"630dcbf7-9525-40c7-8057-770e5a6dd78f\",\"type\":\"ResetTool\"},{\"attributes\":{\"fill_alpha\":{\"value\":0.1},\"fill_color\":{\"value\":\"#1f77b4\"},\"line_alpha\":{\"value\":0.1},\"line_color\":{\"value\":\"#1f77b4\"},\"top\":{\"field\":\"true_count\"},\"width\":{\"value\":1.9},\"x\":{\"field\":\"label\"}},\"id\":\"e27e1a2a-e11a-4834-b1fb-6e0932e5e506\",\"type\":\"VBar\"},{\"attributes\":{},\"id\":\"62ba56a7-40ad-4be4-91c9-b8cd95c0c917\",\"type\":\"CategoricalTickFormatter\"},{\"attributes\":{\"plot\":{\"id\":\"10fe42bf-d6b6-4d72-9d01-40a104f03f7f\",\"subtype\":\"Figure\",\"type\":\"Plot\"},\"ticker\":{\"id\":\"52758706-306a-4374-a9b3-7abedf1791f7\",\"type\":\"CategoricalTicker\"}},\"id\":\"9e22e748-47d4-4e6b-8139-3a943886feb7\",\"type\":\"Grid\"},{\"attributes\":{\"dimensions\":\"width\"},\"id\":\"37ac0393-f960-4532-b146-4c799a486752\",\"type\":\"PanTool\"},{\"attributes\":{\"toolbar\":{\"id\":\"555e83e6-7b59-43cb-b212-066b09bd7cbf\",\"type\":\"ProxyToolbar\"},\"toolbar_location\":\"left\"},\"id\":\"16ec9605-7998-4f35-80ec-4436e3661276\",\"type\":\"ToolbarBox\"},{\"attributes\":{\"plot\":{\"id\":\"a656f2bc-39a9-4516-8f1e-941de20fa756\",\"subtype\":\"Figure\",\"type\":\"Plot\"},\"ticker\":{\"id\":\"77c53527-188e-4703-b9ed-c06fb7f46b71\",\"type\":\"CategoricalTicker\"}},\"id\":\"823904a0-028d-4296-8c87-e189323d6f6f\",\"type\":\"Grid\"},{\"attributes\":{\"plot\":{\"id\":\"a656f2bc-39a9-4516-8f1e-941de20fa756\",\"subtype\":\"Figure\",\"type\":\"Plot\"},\"source\":{\"id\":\"85298871-bbff-468d-9aef-724567a406ac\",\"type\":\"ColumnDataSource\"},\"text\":{\"field\":\"_abs_diff_label_text\"},\"text_align\":\"center\",\"text_baseline\":\"middle\",\"x\":{\"field\":\"label\"},\"y\":{\"field\":\"abs_diff_f1\"},\"y_offset\":{\"field\":\"_diff_label_offset\"}},\"id\":\"03f9e73c-2ed4-431c-ae51-a27cb3d2eb30\",\"type\":\"LabelSet\"},{\"attributes\":{\"dimension\":1,\"plot\":{\"id\":\"05a12a13-5a54-4388-95a3-348e453e5d5f\",\"subtype\":\"Figure\",\"type\":\"Plot\"},\"ticker\":{\"id\":\"32aa9d91-bf6a-4032-88cb-e036b9025002\",\"type\":\"BasicTicker\"}},\"id\":\"9a4bd929-d278-46a3-8f35-ba740364e52c\",\"type\":\"Grid\"},{\"attributes\":{},\"id\":\"2950b573-156e-42ea-90a9-ec49e81b3365\",\"type\":\"UnionRenderers\"},{\"attributes\":{\"active_drag\":\"auto\",\"active_inspect\":\"auto\",\"active_scroll\":\"auto\",\"active_tap\":\"auto\",\"tools\":[{\"id\":\"f75d1b72-270d-48c9-ac3e-686d2e2f5707\",\"type\":\"WheelZoomTool\"},{\"id\":\"42fdc65b-dc72-4bcb-acd1-988a0a1b8673\",\"type\":\"WheelPanTool\"},{\"id\":\"37ac0393-f960-4532-b146-4c799a486752\",\"type\":\"PanTool\"},{\"id\":\"07439946-1b3e-40a1-ae86-28f27ba8fa90\",\"type\":\"SaveTool\"},{\"id\":\"19793f2b-91d6-4399-87e6-429923151ac3\",\"type\":\"ResetTool\"}]},\"id\":\"fef66788-e467-4c6d-a63a-96f809d4ba0f\",\"type\":\"Toolbar\"},{\"attributes\":{},\"id\":\"033e54bc-13ec-4c07-ae6f-8af46cfa1665\",\"type\":\"BasicTicker\"},{\"attributes\":{\"data_source\":{\"id\":\"85298871-bbff-468d-9aef-724567a406ac\",\"type\":\"ColumnDataSource\"},\"glyph\":{\"id\":\"22e6ab7b-799c-4b16-9923-bce79caadde0\",\"type\":\"VBar\"},\"hover_glyph\":null,\"muted_glyph\":null,\"nonselection_glyph\":{\"id\":\"e27e1a2a-e11a-4834-b1fb-6e0932e5e506\",\"type\":\"VBar\"},\"selection_glyph\":null,\"view\":{\"id\":\"dfa1cfcc-167c-489f-85ce-cc0a37543052\",\"type\":\"CDSView\"}},\"id\":\"66d6668f-e3a0-4ae1-8450-8ba313938b74\",\"type\":\"GlyphRenderer\"},{\"attributes\":{\"plot\":{\"id\":\"05a12a13-5a54-4388-95a3-348e453e5d5f\",\"subtype\":\"Figure\",\"type\":\"Plot\"},\"source\":{\"id\":\"85298871-bbff-468d-9aef-724567a406ac\",\"type\":\"ColumnDataSource\"},\"text\":{\"field\":\"true_count\"},\"text_align\":\"center\",\"text_baseline\":\"top\",\"x\":{\"field\":\"label\"},\"y\":{\"field\":\"true_count\"},\"y_offset\":{\"value\":-5}},\"id\":\"c06235a9-b796-41d3-ac8c-3855ba8cad41\",\"type\":\"LabelSet\"},{\"attributes\":{\"callback\":null,\"data\":{\"_abs_diff_label_text\":[\"0.00\",\"0.17\",\"0.19\",\"0.33\",\"0.30\",\"0.10\",\"0.00\",\"0.00\",\"0.00\",\"0.22\",\"0.18\",\"0.17\",\"0.05\",\"0.06\",\"0.29\",\"0.16\",\"0.00\",\"0.00\",\"0.62\",\"0.00\",\"0.00\",\"0.00\",\"0.10\"],\"_count_diff_offset\":{\"__ndarray__\":\"AAAAAAAAAIAAAAAAAAApwAAAAAAAACnAAAAAAAAAKcAAAAAAAAApwAAAAAAAACnAAAAAAAAAAIAAAAAAAAAAgAAAAAAAAACAAAAAAAAAKcAAAAAAAAApwAAAAAAAACnAAAAAAAAAKcAAAAAAAAApwAAAAAAAACnAAAAAAAAAKcAAAAAAAAApwAAAAAAAAACAAAAAAAAAKcAAAAAAAAAAgAAAAAAAAACAAAAAAAAAAIAAAAAAAAApwA==\",\"dtype\":\"float64\",\"shape\":[23]},\"_diff_label_offset\":{\"__ndarray__\":\"AAAAAAAAAAAAAAAAAAAkQAAAAAAAACRAAAAAAAAAJEAAAAAAAAAkQAAAAAAAACRAAAAAAAAAAAAAAAAAAAAAAAAAAAAAAAAAAAAAAAAAJEAAAAAAAAAkQAAAAAAAACRAAAAAAAAAJEAAAAAAAAAkQAAAAAAAACRAAAAAAAAAJEAAAAAAAAAkQAAAAAAAAAAAAAAAAAAAJEAAAAAAAAAAAAAAAAAAAAAAAAAAAAAAAAAAAAAAAAAkQA==\",\"dtype\":\"float64\",\"shape\":[23]},\"_net_diff_count_label_text\":[\"\",\"~ 659 ex\",\"~ 1045 ex\",\"~ 215 ex\",\"~ 31 ex\",\"~ 10 ex\",\"\",\"\",\"\",\"~ 56 ex\",\"~ 9 ex\",\"~ 2 ex\",\"~ 15 ex\",\"\",\"~ 74 ex\",\"~ 31 ex\",\"\",\"\",\"~ 36 ex\",\"\",\"\",\"\",\"~ 103 ex\"],\"_rel_diff_label_text\":[\"\",\"(0.75)\",\"(0.69)\",\"(0.50)\",\"(0.39)\",\"(0.30)\",\"\",\"\",\"\",\"(0.40)\",\"(0.44)\",\"(0.24)\",\"(0.33)\",\"(0.12)\",\"(0.60)\",\"(0.30)\",\"(0.00)\",\"\",\"(0.68)\",\"\",\"\",\"\",\"(0.56)\"],\"abs_diff_f1\":{\"__ndarray__\":\"AAAAAAAAAAA4LmOpcEjFPxBAQg0G78c/R4Ap394i1T9QukcHo+rSP9AxUH7WY7o/AAAAAAAAAAAAAAAAAAAAAAAAAAAAAAAArqQrdD+1yz/IdXFBa1zHPxTCUSx1jcU/gCUj4dHKpz8oBGXva0KwP6Bt6xBE3dI/Qgl9RN7MxD8AAMeGyM3kPgAAAAAAAAAAEpZ7GmG54z8AAAAAAAAAAAAAAAAAAAAAAAAAAAAAAAAQ0f1U3GK4Pw==\",\"dtype\":\"float64\",\"shape\":[23]},\"acc_score_base\":{\"__ndarray__\":\"AAAAAAAA8D/1FW+8ip/sP7MwWCDEJOo/fNBsyyfG7T9w67qUXZbvP5CymHYk3O8/PywPzw/+7z8glofnB//vPwAAAAAAAPA/gRTfcqMv7z9U1Uxr1eXvP/LD8vD84O8/aX6KB5vN7z9YJBAvlu3vP+AHzCN6c+8/7hKDOL5L7z8/LA/PD/7vP57upYUn++8/vVPXcnCz7z9fwpa2F/3vPwAAAAAAAPA/AAAAAAAA8D8KWkdcBUPvPw==\",\"dtype\":\"float64\",\"shape\":[23]},\"acc_score_expt\":{\"__ndarray__\":\"AAAAAAAA8D+ZDODSKR/vP8LLWBx4Gu4/2yUGcXyX7j9+J8ijYLXvPzQ/xYPN5u8/PywPzw/+7z8glofnB//vPwAAAAAAAPA/mj02zehl7z8Y+ABghu/vP5MBXDrl4+8/kLKYdiTc7z84johHju7vP8GimjYxu+8//E6QR8Fq7z8/LA/PD/7vP57upYUn++8/LaE+/EvX7z9fwpa2F/3vPwAAAAAAAPA/AAAAAAAA8D84XTJNz6fvPw==\",\"dtype\":\"float64\",\"shape\":[23]},\"base_headroom\":{\"__ndarray__\":\"AAAAAHsDAAAKBgAASwIAAGwAAAAkAAAAAgAAAAAAAAAAAAAA1gAAABsAAAAfAAAAMwAAABIAAACQAAAAuQAAAAIAAAAEAAAATwAAAAIAAAAAAAAAAAAAAMIAAAA=\",\"dtype\":\"int32\",\"shape\":[23]},\"expt_headroom\":{\"__ndarray__\":\"AAAAAOgAAAD1AQAAdAEAAEwAAAAaAAAAAgAAAAAAAAAAAAAAngAAABEAAAAdAAAAJAAAABIAAABGAAAAmQAAAAIAAAAEAAAAKgAAAAIAAAAAAAAAAAAAAFoAAAA=\",\"dtype\":\"int32\",\"shape\":[23]},\"f1_score_base\":{\"__ndarray__\":\"AAAAAAAAAAB1+PiM69/oP2NvCRFfWuc/E+FJQfLn1T+pz7Q1/m7OPzVSMbc6I+U/AAAAAAAAAAAAAAAAAAAAAAAAAAAAAAAAUzqyZyAq3T9SK7VSK7XiPzi96U1vetM/5YRn+ht06z8q8lk3mCLfP33XlumJYOA/jbDc0wjL3T+YlOhgKObvP8SshQI6Nu8/yKR4gUyKtz8AAAAAAAAAAAAAAAAAAAAAAAAAAAAAAADGroEG94fqPw==\",\"dtype\":\"float64\",\"shape\":[23]},\"f1_score_expt\":{\"__ndarray__\":\"AAAAAAAAAAADxFG3BzLuP2f/WZQgVu0/rbA5kGiF5T8SERERERHhP29Y+4a1b+g/AAAAAAAAAAAAAAAAAAAAAAAAAAAAAAAAVQbkEGCC5T/EiBEjRozoP0KeEuQpQd4/Pbd5GMnw7D+amZmZmZnhP02ODPIrz+k/l5oN+7sY5D9fG7EuPebvP8SshQI6Nu8/q6qqqqqq5j8AAAAAAAAAAAAAAAAAAAAAAAAAAAAAAADoaCGRUpTtPw==\",\"dtype\":\"float64\",\"shape\":[23]},\"index\":[0,1,2,3,4,5,6,7,8,9,10,11,12,13,14,15,16,17,18,19,20,21,22],\"label\":[\"-\",\"A0\",\"A1\",\"A2\",\"A3\",\"A4\",\"A5\",\"AA\",\"AM\",\"AM-ADV\",\"AM-CAU\",\"AM-DIR\",\"AM-DIS\",\"AM-EXT\",\"AM-LOC\",\"AM-MNR\",\"AM-MOD\",\"AM-NEG\",\"AM-PNC\",\"AM-PRD\",\"AM-REC\",\"AM-TM\",\"AM-TMP\"],\"net_diffs\":{\"__ndarray__\":\"AAAAAJMCAAAVBAAA1wAAAB8AAAAKAAAAAAAAAAAAAAAAAAAAOAAAAAkAAAACAAAADwAAAAAAAABKAAAAHwAAAAAAAAAAAAAAJAAAAAAAAAAAAAAAAAAAAGcAAAA=\",\"dtype\":\"int32\",\"shape\":[23]},\"pred_count_base\":[0,1925,2731,221,29,44,0,0,0,116,20,10,164,9,103,106,317,99,6,0,0,0,540],\"pred_count_expt\":[0,2033,3025,463,51,45,0,0,0,206,28,19,185,12,173,172,319,99,63,0,0,0,602],\"rel_diff_f1\":{\"__ndarray__\":\"AAAAAAAAAADej31jR+XnP2VM5QWWJOY/itBCrF0R4D8WjQkhL9HYPzZOplKVb9M/AAAAAAAAAAAAAAAAAAAAAAAAAAAAAAAAIymf9uNz2T/rwakHpx7cP/2GtW9Y+84/chPFCcDu1D+f+j23xKm/PxbbRZnVUeM/RXyFDlR10z8ta+RO0cJpPwAAAAAAAAAAchPmd7W45T8AAAAAAAAAAAAAAAAAAAAAAAAAAAAAAADHKpiiF9bhPw==\",\"dtype\":\"float64\",\"shape\":[23]},\"run_base\":[\"base\",\"base\",\"base\",\"base\",\"base\",\"base\",\"base\",\"base\",\"base\",\"base\",\"base\",\"base\",\"base\",\"base\",\"base\",\"base\",\"base\",\"base\",\"base\",\"base\",\"base\",\"base\",\"base\"],\"run_expt\":[\"expt\",\"expt\",\"expt\",\"expt\",\"expt\",\"expt\",\"expt\",\"expt\",\"expt\",\"expt\",\"expt\",\"expt\",\"expt\",\"expt\",\"expt\",\"expt\",\"expt\",\"expt\",\"expt\",\"expt\",\"expt\",\"expt\",\"expt\"],\"true_count\":[0,2081,2994,673,114,65,2,1,0,279,45,36,202,28,194,242,317,104,81,3,0,0,601]},\"selected\":{\"id\":\"da92c8af-36b2-4aa8-9713-f9a30b62664a\",\"type\":\"Selection\"},\"selection_policy\":{\"id\":\"6463e3e3-19d3-42d3-8a05-54a78ebf8601\",\"type\":\"UnionRenderers\"}},\"id\":\"85298871-bbff-468d-9aef-724567a406ac\",\"type\":\"ColumnDataSource\"},{\"attributes\":{\"fill_alpha\":{\"value\":0.2},\"fill_color\":{\"value\":\"DarkRed\"},\"line_color\":{\"value\":null},\"top\":{\"field\":\"rel_diff_f1\"},\"width\":{\"value\":1.9},\"x\":{\"field\":\"label\"}},\"id\":\"e6b31ad5-6c5b-47ad-bbe7-0edca5c55392\",\"type\":\"VBar\"},{\"attributes\":{},\"id\":\"32aa9d91-bf6a-4032-88cb-e036b9025002\",\"type\":\"BasicTicker\"},{\"attributes\":{\"below\":[{\"id\":\"8ccc305a-aaf8-4f5f-9e53-6c78047786cf\",\"type\":\"CategoricalAxis\"}],\"left\":[{\"id\":\"ff0927ef-cb7d-4485-ac43-0b8cc7f5db6b\",\"type\":\"LinearAxis\"}],\"plot_height\":350,\"plot_width\":1610,\"renderers\":[{\"id\":\"8ccc305a-aaf8-4f5f-9e53-6c78047786cf\",\"type\":\"CategoricalAxis\"},{\"id\":\"dbe8df27-e668-4c37-9ac6-7018055c9be7\",\"type\":\"Grid\"},{\"id\":\"ff0927ef-cb7d-4485-ac43-0b8cc7f5db6b\",\"type\":\"LinearAxis\"},{\"id\":\"9a4bd929-d278-46a3-8f35-ba740364e52c\",\"type\":\"Grid\"},{\"id\":\"66d6668f-e3a0-4ae1-8450-8ba313938b74\",\"type\":\"GlyphRenderer\"},{\"id\":\"c06235a9-b796-41d3-ac8c-3855ba8cad41\",\"type\":\"LabelSet\"}],\"title\":{\"id\":\"e2d07f23-9b39-4d36-b651-5465ed376065\",\"type\":\"Title\"},\"toolbar\":{\"id\":\"99bfce26-f7ae-402d-9561-f415c0a4d696\",\"type\":\"Toolbar\"},\"toolbar_location\":null,\"x_range\":{\"id\":\"10caa66f-8ab9-46eb-8ecd-699286a658fb\",\"type\":\"FactorRange\"},\"x_scale\":{\"id\":\"2beca7fd-ee84-4526-9acb-be76ca5ba690\",\"type\":\"CategoricalScale\"},\"y_range\":{\"id\":\"7c5501c1-1881-4f19-b23e-85e5966e6102\",\"type\":\"DataRange1d\"},\"y_scale\":{\"id\":\"bd182b50-3ff5-4382-9abb-35e260db9463\",\"type\":\"LinearScale\"}},\"id\":\"05a12a13-5a54-4388-95a3-348e453e5d5f\",\"subtype\":\"Figure\",\"type\":\"Plot\"},{\"attributes\":{\"callback\":null},\"id\":\"2a83ba3c-3599-4ec0-9fb5-01a56e8579b1\",\"type\":\"Range1d\"},{\"attributes\":{\"dimension\":1,\"plot\":{\"id\":\"a656f2bc-39a9-4516-8f1e-941de20fa756\",\"subtype\":\"Figure\",\"type\":\"Plot\"},\"ticker\":{\"id\":\"88ee04c5-854b-4928-bc19-a14544931259\",\"type\":\"BasicTicker\"}},\"id\":\"623b1723-0dab-400b-8158-ad2097e3ac9c\",\"type\":\"Grid\"},{\"attributes\":{\"formatter\":{\"id\":\"62ba56a7-40ad-4be4-91c9-b8cd95c0c917\",\"type\":\"CategoricalTickFormatter\"},\"major_label_text_color\":{\"value\":null},\"major_label_text_font_size\":{\"value\":\"0pt\"},\"major_tick_line_color\":{\"value\":null},\"plot\":{\"id\":\"05a12a13-5a54-4388-95a3-348e453e5d5f\",\"subtype\":\"Figure\",\"type\":\"Plot\"},\"ticker\":{\"id\":\"45f1a492-c9dd-4b31-bee4-0aec2a28c6ef\",\"type\":\"CategoricalTicker\"}},\"id\":\"8ccc305a-aaf8-4f5f-9e53-6c78047786cf\",\"type\":\"CategoricalAxis\"},{\"attributes\":{},\"id\":\"0f9f15e7-4d43-4f55-b79f-499e76c2a308\",\"type\":\"CategoricalTickFormatter\"},{\"attributes\":{},\"id\":\"c2cb89b5-309f-4e87-b107-d682cd2539e2\",\"type\":\"LinearScale\"},{\"attributes\":{\"dimensions\":\"width\"},\"id\":\"f1faf2b7-ca43-44c1-934d-241fe5b7ed4b\",\"type\":\"PanTool\"},{\"attributes\":{\"tools\":[{\"id\":\"78bf6d17-b07f-4f91-931c-f4277eb8cf93\",\"type\":\"WheelZoomTool\"},{\"id\":\"45c86c65-c2ce-47bd-9bf5-04259fb12df9\",\"type\":\"WheelPanTool\"},{\"id\":\"f1faf2b7-ca43-44c1-934d-241fe5b7ed4b\",\"type\":\"PanTool\"},{\"id\":\"e776645a-62b1-4620-ba3d-5d32e7f9e2d8\",\"type\":\"SaveTool\"},{\"id\":\"630dcbf7-9525-40c7-8057-770e5a6dd78f\",\"type\":\"ResetTool\"},{\"id\":\"f75d1b72-270d-48c9-ac3e-686d2e2f5707\",\"type\":\"WheelZoomTool\"},{\"id\":\"42fdc65b-dc72-4bcb-acd1-988a0a1b8673\",\"type\":\"WheelPanTool\"},{\"id\":\"37ac0393-f960-4532-b146-4c799a486752\",\"type\":\"PanTool\"},{\"id\":\"07439946-1b3e-40a1-ae86-28f27ba8fa90\",\"type\":\"SaveTool\"},{\"id\":\"19793f2b-91d6-4399-87e6-429923151ac3\",\"type\":\"ResetTool\"},{\"id\":\"a4c57cf1-3e85-4cab-b00f-bde0e238a97e\",\"type\":\"WheelZoomTool\"},{\"id\":\"3641b517-bebc-4f6a-a4fc-830f3a748e67\",\"type\":\"WheelPanTool\"},{\"id\":\"c45aaeb9-c84f-4078-853a-7cf825910a48\",\"type\":\"PanTool\"},{\"id\":\"de6bc1dd-c462-4dcc-aed6-c2fd4fd213c0\",\"type\":\"SaveTool\"},{\"id\":\"b2b230ec-e615-4700-bee1-aabb3f53263c\",\"type\":\"ResetTool\"}]},\"id\":\"555e83e6-7b59-43cb-b212-066b09bd7cbf\",\"type\":\"ProxyToolbar\"},{\"attributes\":{},\"id\":\"52758706-306a-4374-a9b3-7abedf1791f7\",\"type\":\"CategoricalTicker\"},{\"attributes\":{},\"id\":\"bd182b50-3ff5-4382-9abb-35e260db9463\",\"type\":\"LinearScale\"},{\"attributes\":{},\"id\":\"88ee04c5-854b-4928-bc19-a14544931259\",\"type\":\"BasicTicker\"},{\"attributes\":{\"data_source\":{\"id\":\"85298871-bbff-468d-9aef-724567a406ac\",\"type\":\"ColumnDataSource\"},\"glyph\":{\"id\":\"9a1d946e-d4c0-4c26-929d-727b19438c47\",\"type\":\"VBar\"},\"hover_glyph\":null,\"muted_glyph\":null,\"nonselection_glyph\":{\"id\":\"abd0f16a-0efb-4501-be70-3d4dea22af96\",\"type\":\"VBar\"},\"selection_glyph\":null,\"view\":{\"id\":\"4138f9ee-752a-494c-a9a5-55423a03acfa\",\"type\":\"CDSView\"}},\"id\":\"726e737f-8d63-41c0-be36-81cb560b0287\",\"type\":\"GlyphRenderer\"},{\"attributes\":{\"bounds\":[0,1],\"formatter\":{\"id\":\"5b6950fe-03e5-4f12-b9b3-e1c27d03feb1\",\"type\":\"BasicTickFormatter\"},\"plot\":{\"id\":\"10fe42bf-d6b6-4d72-9d01-40a104f03f7f\",\"subtype\":\"Figure\",\"type\":\"Plot\"},\"ticker\":{\"id\":\"033e54bc-13ec-4c07-ae6f-8af46cfa1665\",\"type\":\"BasicTicker\"}},\"id\":\"a2098a89-01a5-46fa-9c41-438cfa9aa8c1\",\"type\":\"LinearAxis\"},{\"attributes\":{\"fill_alpha\":{\"value\":0.1},\"fill_color\":{\"value\":\"#1f77b4\"},\"line_alpha\":{\"value\":0.1},\"line_color\":{\"value\":\"#1f77b4\"},\"top\":{\"field\":\"abs_diff_f1\"},\"width\":{\"value\":1.9},\"x\":{\"field\":\"label\"}},\"id\":\"abd0f16a-0efb-4501-be70-3d4dea22af96\",\"type\":\"VBar\"},{\"attributes\":{\"dimension\":1,\"plot\":{\"id\":\"10fe42bf-d6b6-4d72-9d01-40a104f03f7f\",\"subtype\":\"Figure\",\"type\":\"Plot\"},\"ticker\":{\"id\":\"033e54bc-13ec-4c07-ae6f-8af46cfa1665\",\"type\":\"BasicTicker\"}},\"id\":\"7ef8680f-b118-43ad-bef2-7c908f801f77\",\"type\":\"Grid\"},{\"attributes\":{},\"id\":\"073ab0d7-8a7f-48af-9e13-65d85c3a82e3\",\"type\":\"BasicTickFormatter\"},{\"attributes\":{\"plot\":{\"id\":\"05a12a13-5a54-4388-95a3-348e453e5d5f\",\"subtype\":\"Figure\",\"type\":\"Plot\"},\"ticker\":{\"id\":\"45f1a492-c9dd-4b31-bee4-0aec2a28c6ef\",\"type\":\"CategoricalTicker\"}},\"id\":\"dbe8df27-e668-4c37-9ac6-7018055c9be7\",\"type\":\"Grid\"},{\"attributes\":{\"children\":[{\"id\":\"10fe42bf-d6b6-4d72-9d01-40a104f03f7f\",\"subtype\":\"Figure\",\"type\":\"Plot\"}]},\"id\":\"7d229ffd-d9ac-4dfc-9a46-e8d6ef2ffa78\",\"type\":\"Row\"},{\"attributes\":{},\"id\":\"6463e3e3-19d3-42d3-8a05-54a78ebf8601\",\"type\":\"UnionRenderers\"},{\"attributes\":{\"bounds\":[-1,1],\"formatter\":{\"id\":\"fcce1e92-ed6b-4b7a-bf70-8449b316ae4d\",\"type\":\"BasicTickFormatter\"},\"plot\":{\"id\":\"a656f2bc-39a9-4516-8f1e-941de20fa756\",\"subtype\":\"Figure\",\"type\":\"Plot\"},\"ticker\":{\"id\":\"88ee04c5-854b-4928-bc19-a14544931259\",\"type\":\"BasicTicker\"}},\"id\":\"afe1ccc4-5da5-4942-98da-4a9e6c184ac5\",\"type\":\"LinearAxis\"},{\"attributes\":{},\"id\":\"b838050b-4f95-4fac-98b0-29c725a54803\",\"type\":\"CategoricalScale\"},{\"attributes\":{\"plot\":{\"id\":\"a656f2bc-39a9-4516-8f1e-941de20fa756\",\"subtype\":\"Figure\",\"type\":\"Plot\"},\"source\":{\"id\":\"85298871-bbff-468d-9aef-724567a406ac\",\"type\":\"ColumnDataSource\"},\"text\":{\"field\":\"_net_diff_count_label_text\"},\"text_align\":\"center\",\"text_baseline\":\"middle\",\"text_color\":{\"value\":\"gray\"},\"text_font_size\":{\"value\":\"10pt\"},\"text_font_style\":\"italic\",\"x\":{\"field\":\"label\"},\"y\":{\"value\":0},\"y_offset\":{\"field\":\"_count_diff_offset\"}},\"id\":\"8a0e5e05-14e3-4f68-b346-1a19be27979d\",\"type\":\"LabelSet\"},{\"attributes\":{},\"id\":\"e776645a-62b1-4620-ba3d-5d32e7f9e2d8\",\"type\":\"SaveTool\"},{\"attributes\":{\"source\":{\"id\":\"85298871-bbff-468d-9aef-724567a406ac\",\"type\":\"ColumnDataSource\"}},\"id\":\"41d8b57d-72e8-4aa7-8cea-e09c0a2e4e30\",\"type\":\"CDSView\"},{\"attributes\":{\"plot\":null,\"text\":\"Absolute and (Relative) diffs by label (edges-srl-conll2005)\"},\"id\":\"79ab25dc-0172-47ba-9054-de2d0291d207\",\"type\":\"Title\"},{\"attributes\":{\"text\":\"<h1>edges-srl-conll2005 sorted by 'label'</h1>\",\"width\":600},\"id\":\"6407a16a-40a6-41a6-be69-26c0c6cffe34\",\"type\":\"Div\"},{\"attributes\":{},\"id\":\"45c86c65-c2ce-47bd-9bf5-04259fb12df9\",\"type\":\"WheelPanTool\"},{\"attributes\":{},\"id\":\"77c53527-188e-4703-b9ed-c06fb7f46b71\",\"type\":\"CategoricalTicker\"},{\"attributes\":{\"dimensions\":\"width\"},\"id\":\"a4c57cf1-3e85-4cab-b00f-bde0e238a97e\",\"type\":\"WheelZoomTool\"},{\"attributes\":{\"callback\":null,\"data\":{\"acc_score\":{\"__ndarray__\":\"AAAAAAAA8D/1FW+8ip/sP7MwWCDEJOo/fNBsyyfG7T9w67qUXZbvP5CymHYk3O8/PywPzw/+7z8glofnB//vPwAAAAAAAPA/gRTfcqMv7z9U1Uxr1eXvP/LD8vD84O8/aX6KB5vN7z9YJBAvlu3vP+AHzCN6c+8/7hKDOL5L7z8/LA/PD/7vP57upYUn++8/vVPXcnCz7z9fwpa2F/3vPwAAAAAAAPA/AAAAAAAA8D8KWkdcBUPvPwAAAAAAAPA/mQzg0ikf7z/Cy1gceBruP9slBnF8l+4/fifIo2C17z80P8WDzebvPz8sD88P/u8/IJaH5wf/7z8AAAAAAADwP5o9Ns3oZe8/GPgAYIbv7z+TAVw65ePvP5CymHYk3O8/OI6IR47u7z/Bopo2MbvvP/xOkEfBau8/PywPzw/+7z+e7qWFJ/vvPy2hPvxL1+8/X8KWthf97z8AAAAAAADwPwAAAAAAAPA/OF0yTc+n7z8=\",\"dtype\":\"float64\",\"shape\":[46]},\"f1_score\":{\"__ndarray__\":\"AAAAAAAAAAB1+PiM69/oP2NvCRFfWuc/E+FJQfLn1T+pz7Q1/m7OPzVSMbc6I+U/AAAAAAAAAAAAAAAAAAAAAAAAAAAAAAAAUzqyZyAq3T9SK7VSK7XiPzi96U1vetM/5YRn+ht06z8q8lk3mCLfP33XlumJYOA/jbDc0wjL3T+YlOhgKObvP8SshQI6Nu8/yKR4gUyKtz8AAAAAAAAAAAAAAAAAAAAAAAAAAAAAAADGroEG94fqPwAAAAAAAAAAA8RRtwcy7j9n/1mUIFbtP62wOZBoheU/EhERERER4T9vWPuGtW/oPwAAAAAAAAAAAAAAAAAAAAAAAAAAAAAAAFUG5BBgguU/xIgRI0aM6D9CnhLkKUHePz23eRjJ8Ow/mpmZmZmZ4T9NjgzyK8/pP5eaDfu7GOQ/XxuxLj3m7z/ErIUCOjbvP6uqqqqqquY/AAAAAAAAAAAAAAAAAAAAAAAAAAAAAAAA6GghkVKU7T8=\",\"dtype\":\"float64\",\"shape\":[46]},\"fmt_score\":[\"0.00\",\"0.78\",\"0.73\",\"0.34\",\"0.24\",\"0.66\",\"0.00\",\"0.00\",\"0.00\",\"0.46\",\"0.58\",\"0.30\",\"0.86\",\"0.49\",\"0.51\",\"0.47\",\"1.00\",\"0.98\",\"0.09\",\"0.00\",\"0.00\",\"0.00\",\"0.83\",\"0.00\",\"0.94\",\"0.92\",\"0.67\",\"0.53\",\"0.76\",\"0.00\",\"0.00\",\"0.00\",\"0.67\",\"0.77\",\"0.47\",\"0.90\",\"0.55\",\"0.81\",\"0.63\",\"1.00\",\"0.98\",\"0.71\",\"0.00\",\"0.00\",\"0.00\",\"0.92\"],\"index\":[0,1,2,3,4,5,6,7,8,9,10,11,12,13,14,15,16,17,18,19,20,21,22,0,1,2,3,4,5,6,7,8,9,10,11,12,13,14,15,16,17,18,19,20,21,22],\"label\":[\"-\",\"A0\",\"A1\",\"A2\",\"A3\",\"A4\",\"A5\",\"AA\",\"AM\",\"AM-ADV\",\"AM-CAU\",\"AM-DIR\",\"AM-DIS\",\"AM-EXT\",\"AM-LOC\",\"AM-MNR\",\"AM-MOD\",\"AM-NEG\",\"AM-PNC\",\"AM-PRD\",\"AM-REC\",\"AM-TM\",\"AM-TMP\",\"-\",\"A0\",\"A1\",\"A2\",\"A3\",\"A4\",\"A5\",\"AA\",\"AM\",\"AM-ADV\",\"AM-CAU\",\"AM-DIR\",\"AM-DIS\",\"AM-EXT\",\"AM-LOC\",\"AM-MNR\",\"AM-MOD\",\"AM-NEG\",\"AM-PNC\",\"AM-PRD\",\"AM-REC\",\"AM-TM\",\"AM-TMP\"],\"pred_count\":[0,1925,2731,221,29,44,0,0,0,116,20,10,164,9,103,106,317,99,6,0,0,0,540,0,2033,3025,463,51,45,0,0,0,206,28,19,185,12,173,172,319,99,63,0,0,0,602],\"row_key\":[[\"-\",\"base\"],[\"A0\",\"base\"],[\"A1\",\"base\"],[\"A2\",\"base\"],[\"A3\",\"base\"],[\"A4\",\"base\"],[\"A5\",\"base\"],[\"AA\",\"base\"],[\"AM\",\"base\"],[\"AM-ADV\",\"base\"],[\"AM-CAU\",\"base\"],[\"AM-DIR\",\"base\"],[\"AM-DIS\",\"base\"],[\"AM-EXT\",\"base\"],[\"AM-LOC\",\"base\"],[\"AM-MNR\",\"base\"],[\"AM-MOD\",\"base\"],[\"AM-NEG\",\"base\"],[\"AM-PNC\",\"base\"],[\"AM-PRD\",\"base\"],[\"AM-REC\",\"base\"],[\"AM-TM\",\"base\"],[\"AM-TMP\",\"base\"],[\"-\",\"expt\"],[\"A0\",\"expt\"],[\"A1\",\"expt\"],[\"A2\",\"expt\"],[\"A3\",\"expt\"],[\"A4\",\"expt\"],[\"A5\",\"expt\"],[\"AA\",\"expt\"],[\"AM\",\"expt\"],[\"AM-ADV\",\"expt\"],[\"AM-CAU\",\"expt\"],[\"AM-DIR\",\"expt\"],[\"AM-DIS\",\"expt\"],[\"AM-EXT\",\"expt\"],[\"AM-LOC\",\"expt\"],[\"AM-MNR\",\"expt\"],[\"AM-MOD\",\"expt\"],[\"AM-NEG\",\"expt\"],[\"AM-PNC\",\"expt\"],[\"AM-PRD\",\"expt\"],[\"AM-REC\",\"expt\"],[\"AM-TM\",\"expt\"],[\"AM-TMP\",\"expt\"]],\"run\":[\"base\",\"base\",\"base\",\"base\",\"base\",\"base\",\"base\",\"base\",\"base\",\"base\",\"base\",\"base\",\"base\",\"base\",\"base\",\"base\",\"base\",\"base\",\"base\",\"base\",\"base\",\"base\",\"base\",\"expt\",\"expt\",\"expt\",\"expt\",\"expt\",\"expt\",\"expt\",\"expt\",\"expt\",\"expt\",\"expt\",\"expt\",\"expt\",\"expt\",\"expt\",\"expt\",\"expt\",\"expt\",\"expt\",\"expt\",\"expt\",\"expt\",\"expt\"],\"true_count\":[0,2081,2994,673,114,65,2,1,0,279,45,36,202,28,194,242,317,104,81,3,0,0,601,0,2081,2994,673,114,65,2,1,0,279,45,36,202,28,194,242,317,104,81,3,0,0,601]},\"selected\":{\"id\":\"1868379d-03bd-43d7-9f9c-3fee13b73aa5\",\"type\":\"Selection\"},\"selection_policy\":{\"id\":\"2950b573-156e-42ea-90a9-ec49e81b3365\",\"type\":\"UnionRenderers\"}},\"id\":\"6dad912f-3ba6-4764-8f93-dbc1c23a731f\",\"type\":\"ColumnDataSource\"},{\"attributes\":{\"formatter\":{\"id\":\"0f9f15e7-4d43-4f55-b79f-499e76c2a308\",\"type\":\"CategoricalTickFormatter\"},\"major_label_orientation\":1,\"plot\":{\"id\":\"10fe42bf-d6b6-4d72-9d01-40a104f03f7f\",\"subtype\":\"Figure\",\"type\":\"Plot\"},\"ticker\":{\"id\":\"52758706-306a-4374-a9b3-7abedf1791f7\",\"type\":\"CategoricalTicker\"}},\"id\":\"da9c230f-93bf-428a-8065-8b9c3068e4f6\",\"type\":\"CategoricalAxis\"},{\"attributes\":{\"dimensions\":\"width\"},\"id\":\"f75d1b72-270d-48c9-ac3e-686d2e2f5707\",\"type\":\"WheelZoomTool\"},{\"attributes\":{\"dimensions\":\"width\"},\"id\":\"c45aaeb9-c84f-4078-853a-7cf825910a48\",\"type\":\"PanTool\"},{\"attributes\":{\"data_source\":{\"id\":\"85298871-bbff-468d-9aef-724567a406ac\",\"type\":\"ColumnDataSource\"},\"glyph\":{\"id\":\"e6b31ad5-6c5b-47ad-bbe7-0edca5c55392\",\"type\":\"VBar\"},\"hover_glyph\":null,\"muted_glyph\":null,\"nonselection_glyph\":{\"id\":\"1a5ce37f-d491-44df-9c68-a61e1d3fa951\",\"type\":\"VBar\"},\"selection_glyph\":null,\"view\":{\"id\":\"41d8b57d-72e8-4aa7-8cea-e09c0a2e4e30\",\"type\":\"CDSView\"}},\"id\":\"d5a6ff9b-1401-470e-b7e4-23f820ca57e7\",\"type\":\"GlyphRenderer\"},{\"attributes\":{},\"id\":\"45f1a492-c9dd-4b31-bee4-0aec2a28c6ef\",\"type\":\"CategoricalTicker\"},{\"attributes\":{\"active_drag\":\"auto\",\"active_inspect\":\"auto\",\"active_scroll\":\"auto\",\"active_tap\":\"auto\",\"tools\":[{\"id\":\"a4c57cf1-3e85-4cab-b00f-bde0e238a97e\",\"type\":\"WheelZoomTool\"},{\"id\":\"3641b517-bebc-4f6a-a4fc-830f3a748e67\",\"type\":\"WheelPanTool\"},{\"id\":\"c45aaeb9-c84f-4078-853a-7cf825910a48\",\"type\":\"PanTool\"},{\"id\":\"de6bc1dd-c462-4dcc-aed6-c2fd4fd213c0\",\"type\":\"SaveTool\"},{\"id\":\"b2b230ec-e615-4700-bee1-aabb3f53263c\",\"type\":\"ResetTool\"}]},\"id\":\"99bfce26-f7ae-402d-9561-f415c0a4d696\",\"type\":\"Toolbar\"},{\"attributes\":{\"below\":[{\"id\":\"1581e606-6a98-4547-90ef-f83f90d18d2c\",\"type\":\"CategoricalAxis\"}],\"left\":[{\"id\":\"afe1ccc4-5da5-4942-98da-4a9e6c184ac5\",\"type\":\"LinearAxis\"}],\"plot_height\":350,\"plot_width\":1610,\"renderers\":[{\"id\":\"1581e606-6a98-4547-90ef-f83f90d18d2c\",\"type\":\"CategoricalAxis\"},{\"id\":\"823904a0-028d-4296-8c87-e189323d6f6f\",\"type\":\"Grid\"},{\"id\":\"afe1ccc4-5da5-4942-98da-4a9e6c184ac5\",\"type\":\"LinearAxis\"},{\"id\":\"623b1723-0dab-400b-8158-ad2097e3ac9c\",\"type\":\"Grid\"},{\"id\":\"d5a6ff9b-1401-470e-b7e4-23f820ca57e7\",\"type\":\"GlyphRenderer\"},{\"id\":\"726e737f-8d63-41c0-be36-81cb560b0287\",\"type\":\"GlyphRenderer\"},{\"id\":\"03f9e73c-2ed4-431c-ae51-a27cb3d2eb30\",\"type\":\"LabelSet\"},{\"id\":\"ddf8c741-4611-4a7b-9128-b1ea5d1039c3\",\"type\":\"LabelSet\"},{\"id\":\"8a0e5e05-14e3-4f68-b346-1a19be27979d\",\"type\":\"LabelSet\"}],\"title\":{\"id\":\"79ab25dc-0172-47ba-9054-de2d0291d207\",\"type\":\"Title\"},\"toolbar\":{\"id\":\"fef66788-e467-4c6d-a63a-96f809d4ba0f\",\"type\":\"Toolbar\"},\"toolbar_location\":null,\"x_range\":{\"id\":\"10caa66f-8ab9-46eb-8ecd-699286a658fb\",\"type\":\"FactorRange\"},\"x_scale\":{\"id\":\"3d7c8861-318b-4928-97d4-b653bd27e74f\",\"type\":\"CategoricalScale\"},\"y_range\":{\"id\":\"0dcff899-aecc-4bd8-96a1-b784ec2b1be7\",\"type\":\"DataRange1d\"},\"y_scale\":{\"id\":\"c2cb89b5-309f-4e87-b107-d682cd2539e2\",\"type\":\"LinearScale\"}},\"id\":\"a656f2bc-39a9-4516-8f1e-941de20fa756\",\"subtype\":\"Figure\",\"type\":\"Plot\"},{\"attributes\":{\"children\":[{\"id\":\"16ec9605-7998-4f35-80ec-4436e3661276\",\"type\":\"ToolbarBox\"},{\"id\":\"410121ee-716e-4ca6-b97e-ed1aceb18470\",\"type\":\"Column\"}]},\"id\":\"3489cf00-cc4a-49a0-ae3b-6d8aef677439\",\"type\":\"Row\"},{\"attributes\":{\"dimensions\":\"width\"},\"id\":\"78bf6d17-b07f-4f91-931c-f4277eb8cf93\",\"type\":\"WheelZoomTool\"},{\"attributes\":{},\"id\":\"07439946-1b3e-40a1-ae86-28f27ba8fa90\",\"type\":\"SaveTool\"},{\"attributes\":{},\"id\":\"de6bc1dd-c462-4dcc-aed6-c2fd4fd213c0\",\"type\":\"SaveTool\"},{\"attributes\":{},\"id\":\"b2b230ec-e615-4700-bee1-aabb3f53263c\",\"type\":\"ResetTool\"},{\"attributes\":{\"fill_alpha\":{\"value\":0.1},\"fill_color\":{\"value\":\"#1f77b4\"},\"line_alpha\":{\"value\":0.1},\"line_color\":{\"value\":\"#1f77b4\"},\"top\":{\"field\":\"rel_diff_f1\"},\"width\":{\"value\":1.9},\"x\":{\"field\":\"label\"}},\"id\":\"1a5ce37f-d491-44df-9c68-a61e1d3fa951\",\"type\":\"VBar\"},{\"attributes\":{},\"id\":\"1006c80f-bc33-464a-8b86-b6f5bcf457e4\",\"type\":\"LinearScale\"}],\"root_ids\":[\"5e99150a-69b2-498e-918e-344319d7bd10\"]},\"title\":\"Bokeh Application\",\"version\":\"0.12.16\"}};\n",
       "  var render_items = [{\"docid\":\"f54c5502-081b-48ff-b00c-f5f2fe4e9dd4\",\"elementid\":\"0f9db00e-a23e-4dda-9462-c8b461c188eb\",\"modelid\":\"5e99150a-69b2-498e-918e-344319d7bd10\"}];\n",
       "  root.Bokeh.embed.embed_items_notebook(docs_json, render_items);\n",
       "\n",
       "  }\n",
       "  if (root.Bokeh !== undefined) {\n",
       "    embed_document(root);\n",
       "  } else {\n",
       "    var attempts = 0;\n",
       "    var timer = setInterval(function(root) {\n",
       "      if (root.Bokeh !== undefined) {\n",
       "        embed_document(root);\n",
       "        clearInterval(timer);\n",
       "      }\n",
       "      attempts++;\n",
       "      if (attempts > 100) {\n",
       "        console.log(\"Bokeh: ERROR: Unable to run BokehJS code because BokehJS library is missing\")\n",
       "        clearInterval(timer);\n",
       "      }\n",
       "    }, 10, root)\n",
       "  }\n",
       "})(window);"
      ],
      "application/vnd.bokehjs_exec.v0+json": ""
     },
     "metadata": {
      "application/vnd.bokehjs_exec.v0+json": {
       "id": "5e99150a-69b2-498e-918e-344319d7bd10"
      }
     },
     "output_type": "display_data"
    }
   ],
   "source": [
    "reload(analysis)\n",
    "if task_name.startswith(\"edges-srl\"):\n",
    "    # Filter out references and continuations, because these are mostly noise.\n",
    "    label_filter = lambda label: not (label.startswith(\"R-\") or label.startswith(\"C-\"))\n",
    "else:\n",
    "    label_filter = lambda label: True\n",
    "comp = analysis.Comparison(*pair, label_filter=label_filter)\n",
    "# SORT_FIELD=\"abs_diff_f1\"\n",
    "SORT_FIELD = \"label\"\n",
    "# SORT_FIELD = \"true_count\"\n",
    "p = comp.plot_scores(task_name, metric=\"f1\", sort_field=SORT_FIELD, row_height=350,\n",
    "                     sort_ascending=(SORT_FIELD == 'label'))\n",
    "\n",
    "# Save chart and push to cloud bucket.\n",
    "import socket\n",
    "now = get_compact_timestamp()\n",
    "fname = f\"chart.{task_name}.{SORT_FIELD}.{now:s}.html\"\n",
    "hostname = socket.gethostname()\n",
    "title = f\"{task_name} sorted by '{SORT_FIELD}'\"\n",
    "bp.save(p, os.path.join(\"/tmp\", fname), title=title, resources=bokeh.resources.CDN)\n",
    "!gsutil cp /tmp/$fname gs://jsalt-scratch/$hostname/plots/$fname\n",
    "!gsutil acl ch -u AllUsers:R gs://jsalt-scratch/$hostname/plots/$fname\n",
    "print(f\"Public URL: https://storage.googleapis.com/jsalt-scratch/{hostname}/plots/{fname}\")\n",
    "bp.show(p)"
   ]
  },
  {
   "cell_type": "code",
   "execution_count": null,
   "metadata": {},
   "outputs": [],
   "source": []
  }
 ],
 "metadata": {
  "kernelspec": {
   "display_name": "Python 3",
   "language": "python",
   "name": "python3"
  },
  "language_info": {
   "codemirror_mode": {
    "name": "ipython",
    "version": 3
   },
   "file_extension": ".py",
   "mimetype": "text/x-python",
   "name": "python",
   "nbconvert_exporter": "python",
   "pygments_lexer": "ipython3",
   "version": "3.6.5"
  }
 },
 "nbformat": 4,
 "nbformat_minor": 2
}
