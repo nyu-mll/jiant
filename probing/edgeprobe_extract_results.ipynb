{
 "cells": [
  {
   "cell_type": "markdown",
   "metadata": {},
   "source": [
    "# Edge Probing Extract Results"
   ]
  },
  {
   "cell_type": "code",
   "execution_count": 1,
   "metadata": {},
   "outputs": [],
   "source": [
    "import sys, os, re, json\n",
    "import itertools\n",
    "import collections\n",
    "from importlib import reload\n",
    "import pandas as pd\n",
    "import numpy as np\n",
    "from sklearn import metrics"
   ]
  },
  {
   "cell_type": "code",
   "execution_count": 2,
   "metadata": {},
   "outputs": [],
   "source": [
    "import datetime\n",
    "def get_compact_timestamp():\n",
    "    now = datetime.datetime.now()\n",
    "    return now.strftime(\"%Y%m%d.%H%M%S\")"
   ]
  },
  {
   "cell_type": "code",
   "execution_count": 3,
   "metadata": {},
   "outputs": [
    {
     "data": {
      "text/html": [
       "\n",
       "    <div class=\"bk-root\">\n",
       "        <a href=\"https://bokeh.pydata.org\" target=\"_blank\" class=\"bk-logo bk-logo-small bk-logo-notebook\"></a>\n",
       "        <span id=\"d683f90c-8c4b-4c60-b4b4-5949e45cd736\">Loading BokehJS ...</span>\n",
       "    </div>"
      ]
     },
     "metadata": {},
     "output_type": "display_data"
    },
    {
     "data": {
      "application/javascript": [
       "\n",
       "(function(root) {\n",
       "  function now() {\n",
       "    return new Date();\n",
       "  }\n",
       "\n",
       "  var force = true;\n",
       "\n",
       "  if (typeof (root._bokeh_onload_callbacks) === \"undefined\" || force === true) {\n",
       "    root._bokeh_onload_callbacks = [];\n",
       "    root._bokeh_is_loading = undefined;\n",
       "  }\n",
       "\n",
       "  var JS_MIME_TYPE = 'application/javascript';\n",
       "  var HTML_MIME_TYPE = 'text/html';\n",
       "  var EXEC_MIME_TYPE = 'application/vnd.bokehjs_exec.v0+json';\n",
       "  var CLASS_NAME = 'output_bokeh rendered_html';\n",
       "\n",
       "  /**\n",
       "   * Render data to the DOM node\n",
       "   */\n",
       "  function render(props, node) {\n",
       "    var script = document.createElement(\"script\");\n",
       "    node.appendChild(script);\n",
       "  }\n",
       "\n",
       "  /**\n",
       "   * Handle when an output is cleared or removed\n",
       "   */\n",
       "  function handleClearOutput(event, handle) {\n",
       "    var cell = handle.cell;\n",
       "\n",
       "    var id = cell.output_area._bokeh_element_id;\n",
       "    var server_id = cell.output_area._bokeh_server_id;\n",
       "    // Clean up Bokeh references\n",
       "    if (id !== undefined) {\n",
       "      Bokeh.index[id].model.document.clear();\n",
       "      delete Bokeh.index[id];\n",
       "    }\n",
       "\n",
       "    if (server_id !== undefined) {\n",
       "      // Clean up Bokeh references\n",
       "      var cmd = \"from bokeh.io.state import curstate; print(curstate().uuid_to_server['\" + server_id + \"'].get_sessions()[0].document.roots[0]._id)\";\n",
       "      cell.notebook.kernel.execute(cmd, {\n",
       "        iopub: {\n",
       "          output: function(msg) {\n",
       "            var element_id = msg.content.text.trim();\n",
       "            Bokeh.index[element_id].model.document.clear();\n",
       "            delete Bokeh.index[element_id];\n",
       "          }\n",
       "        }\n",
       "      });\n",
       "      // Destroy server and session\n",
       "      var cmd = \"import bokeh.io.notebook as ion; ion.destroy_server('\" + server_id + \"')\";\n",
       "      cell.notebook.kernel.execute(cmd);\n",
       "    }\n",
       "  }\n",
       "\n",
       "  /**\n",
       "   * Handle when a new output is added\n",
       "   */\n",
       "  function handleAddOutput(event, handle) {\n",
       "    var output_area = handle.output_area;\n",
       "    var output = handle.output;\n",
       "\n",
       "    // limit handleAddOutput to display_data with EXEC_MIME_TYPE content only\n",
       "    if ((output.output_type != \"display_data\") || (!output.data.hasOwnProperty(EXEC_MIME_TYPE))) {\n",
       "      return\n",
       "    }\n",
       "\n",
       "    var toinsert = output_area.element.find(\".\" + CLASS_NAME.split(' ')[0]);\n",
       "\n",
       "    if (output.metadata[EXEC_MIME_TYPE][\"id\"] !== undefined) {\n",
       "      toinsert[toinsert.length - 1].firstChild.textContent = output.data[JS_MIME_TYPE];\n",
       "      // store reference to embed id on output_area\n",
       "      output_area._bokeh_element_id = output.metadata[EXEC_MIME_TYPE][\"id\"];\n",
       "    }\n",
       "    if (output.metadata[EXEC_MIME_TYPE][\"server_id\"] !== undefined) {\n",
       "      var bk_div = document.createElement(\"div\");\n",
       "      bk_div.innerHTML = output.data[HTML_MIME_TYPE];\n",
       "      var script_attrs = bk_div.children[0].attributes;\n",
       "      for (var i = 0; i < script_attrs.length; i++) {\n",
       "        toinsert[toinsert.length - 1].firstChild.setAttribute(script_attrs[i].name, script_attrs[i].value);\n",
       "      }\n",
       "      // store reference to server id on output_area\n",
       "      output_area._bokeh_server_id = output.metadata[EXEC_MIME_TYPE][\"server_id\"];\n",
       "    }\n",
       "  }\n",
       "\n",
       "  function register_renderer(events, OutputArea) {\n",
       "\n",
       "    function append_mime(data, metadata, element) {\n",
       "      // create a DOM node to render to\n",
       "      var toinsert = this.create_output_subarea(\n",
       "        metadata,\n",
       "        CLASS_NAME,\n",
       "        EXEC_MIME_TYPE\n",
       "      );\n",
       "      this.keyboard_manager.register_events(toinsert);\n",
       "      // Render to node\n",
       "      var props = {data: data, metadata: metadata[EXEC_MIME_TYPE]};\n",
       "      render(props, toinsert[toinsert.length - 1]);\n",
       "      element.append(toinsert);\n",
       "      return toinsert\n",
       "    }\n",
       "\n",
       "    /* Handle when an output is cleared or removed */\n",
       "    events.on('clear_output.CodeCell', handleClearOutput);\n",
       "    events.on('delete.Cell', handleClearOutput);\n",
       "\n",
       "    /* Handle when a new output is added */\n",
       "    events.on('output_added.OutputArea', handleAddOutput);\n",
       "\n",
       "    /**\n",
       "     * Register the mime type and append_mime function with output_area\n",
       "     */\n",
       "    OutputArea.prototype.register_mime_type(EXEC_MIME_TYPE, append_mime, {\n",
       "      /* Is output safe? */\n",
       "      safe: true,\n",
       "      /* Index of renderer in `output_area.display_order` */\n",
       "      index: 0\n",
       "    });\n",
       "  }\n",
       "\n",
       "  // register the mime type if in Jupyter Notebook environment and previously unregistered\n",
       "  if (root.Jupyter !== undefined) {\n",
       "    var events = require('base/js/events');\n",
       "    var OutputArea = require('notebook/js/outputarea').OutputArea;\n",
       "\n",
       "    if (OutputArea.prototype.mime_types().indexOf(EXEC_MIME_TYPE) == -1) {\n",
       "      register_renderer(events, OutputArea);\n",
       "    }\n",
       "  }\n",
       "\n",
       "  \n",
       "  if (typeof (root._bokeh_timeout) === \"undefined\" || force === true) {\n",
       "    root._bokeh_timeout = Date.now() + 5000;\n",
       "    root._bokeh_failed_load = false;\n",
       "  }\n",
       "\n",
       "  var NB_LOAD_WARNING = {'data': {'text/html':\n",
       "     \"<div style='background-color: #fdd'>\\n\"+\n",
       "     \"<p>\\n\"+\n",
       "     \"BokehJS does not appear to have successfully loaded. If loading BokehJS from CDN, this \\n\"+\n",
       "     \"may be due to a slow or bad network connection. Possible fixes:\\n\"+\n",
       "     \"</p>\\n\"+\n",
       "     \"<ul>\\n\"+\n",
       "     \"<li>re-rerun `output_notebook()` to attempt to load from CDN again, or</li>\\n\"+\n",
       "     \"<li>use INLINE resources instead, as so:</li>\\n\"+\n",
       "     \"</ul>\\n\"+\n",
       "     \"<code>\\n\"+\n",
       "     \"from bokeh.resources import INLINE\\n\"+\n",
       "     \"output_notebook(resources=INLINE)\\n\"+\n",
       "     \"</code>\\n\"+\n",
       "     \"</div>\"}};\n",
       "\n",
       "  function display_loaded() {\n",
       "    var el = document.getElementById(\"d683f90c-8c4b-4c60-b4b4-5949e45cd736\");\n",
       "    if (el != null) {\n",
       "      el.textContent = \"BokehJS is loading...\";\n",
       "    }\n",
       "    if (root.Bokeh !== undefined) {\n",
       "      if (el != null) {\n",
       "        el.textContent = \"BokehJS \" + root.Bokeh.version + \" successfully loaded.\";\n",
       "      }\n",
       "    } else if (Date.now() < root._bokeh_timeout) {\n",
       "      setTimeout(display_loaded, 100)\n",
       "    }\n",
       "  }\n",
       "\n",
       "\n",
       "  function run_callbacks() {\n",
       "    try {\n",
       "      root._bokeh_onload_callbacks.forEach(function(callback) { callback() });\n",
       "    }\n",
       "    finally {\n",
       "      delete root._bokeh_onload_callbacks\n",
       "    }\n",
       "    console.info(\"Bokeh: all callbacks have finished\");\n",
       "  }\n",
       "\n",
       "  function load_libs(js_urls, callback) {\n",
       "    root._bokeh_onload_callbacks.push(callback);\n",
       "    if (root._bokeh_is_loading > 0) {\n",
       "      console.log(\"Bokeh: BokehJS is being loaded, scheduling callback at\", now());\n",
       "      return null;\n",
       "    }\n",
       "    if (js_urls == null || js_urls.length === 0) {\n",
       "      run_callbacks();\n",
       "      return null;\n",
       "    }\n",
       "    console.log(\"Bokeh: BokehJS not loaded, scheduling load and callback at\", now());\n",
       "    root._bokeh_is_loading = js_urls.length;\n",
       "    for (var i = 0; i < js_urls.length; i++) {\n",
       "      var url = js_urls[i];\n",
       "      var s = document.createElement('script');\n",
       "      s.src = url;\n",
       "      s.async = false;\n",
       "      s.onreadystatechange = s.onload = function() {\n",
       "        root._bokeh_is_loading--;\n",
       "        if (root._bokeh_is_loading === 0) {\n",
       "          console.log(\"Bokeh: all BokehJS libraries loaded\");\n",
       "          run_callbacks()\n",
       "        }\n",
       "      };\n",
       "      s.onerror = function() {\n",
       "        console.warn(\"failed to load library \" + url);\n",
       "      };\n",
       "      console.log(\"Bokeh: injecting script tag for BokehJS library: \", url);\n",
       "      document.getElementsByTagName(\"head\")[0].appendChild(s);\n",
       "    }\n",
       "  };var element = document.getElementById(\"d683f90c-8c4b-4c60-b4b4-5949e45cd736\");\n",
       "  if (element == null) {\n",
       "    console.log(\"Bokeh: ERROR: autoload.js configured with elementid 'd683f90c-8c4b-4c60-b4b4-5949e45cd736' but no matching script tag was found. \")\n",
       "    return false;\n",
       "  }\n",
       "\n",
       "  var js_urls = [\"https://cdn.pydata.org/bokeh/release/bokeh-0.12.16.min.js\", \"https://cdn.pydata.org/bokeh/release/bokeh-widgets-0.12.16.min.js\", \"https://cdn.pydata.org/bokeh/release/bokeh-tables-0.12.16.min.js\", \"https://cdn.pydata.org/bokeh/release/bokeh-gl-0.12.16.min.js\"];\n",
       "\n",
       "  var inline_js = [\n",
       "    function(Bokeh) {\n",
       "      Bokeh.set_log_level(\"info\");\n",
       "    },\n",
       "    \n",
       "    function(Bokeh) {\n",
       "      \n",
       "    },\n",
       "    function(Bokeh) {\n",
       "      console.log(\"Bokeh: injecting CSS: https://cdn.pydata.org/bokeh/release/bokeh-0.12.16.min.css\");\n",
       "      Bokeh.embed.inject_css(\"https://cdn.pydata.org/bokeh/release/bokeh-0.12.16.min.css\");\n",
       "      console.log(\"Bokeh: injecting CSS: https://cdn.pydata.org/bokeh/release/bokeh-widgets-0.12.16.min.css\");\n",
       "      Bokeh.embed.inject_css(\"https://cdn.pydata.org/bokeh/release/bokeh-widgets-0.12.16.min.css\");\n",
       "      console.log(\"Bokeh: injecting CSS: https://cdn.pydata.org/bokeh/release/bokeh-tables-0.12.16.min.css\");\n",
       "      Bokeh.embed.inject_css(\"https://cdn.pydata.org/bokeh/release/bokeh-tables-0.12.16.min.css\");\n",
       "    }\n",
       "  ];\n",
       "\n",
       "  function run_inline_js() {\n",
       "    \n",
       "    if ((root.Bokeh !== undefined) || (force === true)) {\n",
       "      for (var i = 0; i < inline_js.length; i++) {\n",
       "        inline_js[i].call(root, root.Bokeh);\n",
       "      }if (force === true) {\n",
       "        display_loaded();\n",
       "      }} else if (Date.now() < root._bokeh_timeout) {\n",
       "      setTimeout(run_inline_js, 100);\n",
       "    } else if (!root._bokeh_failed_load) {\n",
       "      console.log(\"Bokeh: BokehJS failed to load within specified timeout.\");\n",
       "      root._bokeh_failed_load = true;\n",
       "    } else if (force !== true) {\n",
       "      var cell = $(document.getElementById(\"d683f90c-8c4b-4c60-b4b4-5949e45cd736\")).parents('.cell').data().cell;\n",
       "      cell.output_area.append_execute_result(NB_LOAD_WARNING)\n",
       "    }\n",
       "\n",
       "  }\n",
       "\n",
       "  if (root._bokeh_is_loading === 0) {\n",
       "    console.log(\"Bokeh: BokehJS loaded, going straight to plotting\");\n",
       "    run_inline_js();\n",
       "  } else {\n",
       "    load_libs(js_urls, function() {\n",
       "      console.log(\"Bokeh: BokehJS plotting callback run at\", now());\n",
       "      run_inline_js();\n",
       "    });\n",
       "  }\n",
       "}(window));"
      ],
      "application/vnd.bokehjs_load.v0+json": "\n(function(root) {\n  function now() {\n    return new Date();\n  }\n\n  var force = true;\n\n  if (typeof (root._bokeh_onload_callbacks) === \"undefined\" || force === true) {\n    root._bokeh_onload_callbacks = [];\n    root._bokeh_is_loading = undefined;\n  }\n\n  \n\n  \n  if (typeof (root._bokeh_timeout) === \"undefined\" || force === true) {\n    root._bokeh_timeout = Date.now() + 5000;\n    root._bokeh_failed_load = false;\n  }\n\n  var NB_LOAD_WARNING = {'data': {'text/html':\n     \"<div style='background-color: #fdd'>\\n\"+\n     \"<p>\\n\"+\n     \"BokehJS does not appear to have successfully loaded. If loading BokehJS from CDN, this \\n\"+\n     \"may be due to a slow or bad network connection. Possible fixes:\\n\"+\n     \"</p>\\n\"+\n     \"<ul>\\n\"+\n     \"<li>re-rerun `output_notebook()` to attempt to load from CDN again, or</li>\\n\"+\n     \"<li>use INLINE resources instead, as so:</li>\\n\"+\n     \"</ul>\\n\"+\n     \"<code>\\n\"+\n     \"from bokeh.resources import INLINE\\n\"+\n     \"output_notebook(resources=INLINE)\\n\"+\n     \"</code>\\n\"+\n     \"</div>\"}};\n\n  function display_loaded() {\n    var el = document.getElementById(\"d683f90c-8c4b-4c60-b4b4-5949e45cd736\");\n    if (el != null) {\n      el.textContent = \"BokehJS is loading...\";\n    }\n    if (root.Bokeh !== undefined) {\n      if (el != null) {\n        el.textContent = \"BokehJS \" + root.Bokeh.version + \" successfully loaded.\";\n      }\n    } else if (Date.now() < root._bokeh_timeout) {\n      setTimeout(display_loaded, 100)\n    }\n  }\n\n\n  function run_callbacks() {\n    try {\n      root._bokeh_onload_callbacks.forEach(function(callback) { callback() });\n    }\n    finally {\n      delete root._bokeh_onload_callbacks\n    }\n    console.info(\"Bokeh: all callbacks have finished\");\n  }\n\n  function load_libs(js_urls, callback) {\n    root._bokeh_onload_callbacks.push(callback);\n    if (root._bokeh_is_loading > 0) {\n      console.log(\"Bokeh: BokehJS is being loaded, scheduling callback at\", now());\n      return null;\n    }\n    if (js_urls == null || js_urls.length === 0) {\n      run_callbacks();\n      return null;\n    }\n    console.log(\"Bokeh: BokehJS not loaded, scheduling load and callback at\", now());\n    root._bokeh_is_loading = js_urls.length;\n    for (var i = 0; i < js_urls.length; i++) {\n      var url = js_urls[i];\n      var s = document.createElement('script');\n      s.src = url;\n      s.async = false;\n      s.onreadystatechange = s.onload = function() {\n        root._bokeh_is_loading--;\n        if (root._bokeh_is_loading === 0) {\n          console.log(\"Bokeh: all BokehJS libraries loaded\");\n          run_callbacks()\n        }\n      };\n      s.onerror = function() {\n        console.warn(\"failed to load library \" + url);\n      };\n      console.log(\"Bokeh: injecting script tag for BokehJS library: \", url);\n      document.getElementsByTagName(\"head\")[0].appendChild(s);\n    }\n  };var element = document.getElementById(\"d683f90c-8c4b-4c60-b4b4-5949e45cd736\");\n  if (element == null) {\n    console.log(\"Bokeh: ERROR: autoload.js configured with elementid 'd683f90c-8c4b-4c60-b4b4-5949e45cd736' but no matching script tag was found. \")\n    return false;\n  }\n\n  var js_urls = [\"https://cdn.pydata.org/bokeh/release/bokeh-0.12.16.min.js\", \"https://cdn.pydata.org/bokeh/release/bokeh-widgets-0.12.16.min.js\", \"https://cdn.pydata.org/bokeh/release/bokeh-tables-0.12.16.min.js\", \"https://cdn.pydata.org/bokeh/release/bokeh-gl-0.12.16.min.js\"];\n\n  var inline_js = [\n    function(Bokeh) {\n      Bokeh.set_log_level(\"info\");\n    },\n    \n    function(Bokeh) {\n      \n    },\n    function(Bokeh) {\n      console.log(\"Bokeh: injecting CSS: https://cdn.pydata.org/bokeh/release/bokeh-0.12.16.min.css\");\n      Bokeh.embed.inject_css(\"https://cdn.pydata.org/bokeh/release/bokeh-0.12.16.min.css\");\n      console.log(\"Bokeh: injecting CSS: https://cdn.pydata.org/bokeh/release/bokeh-widgets-0.12.16.min.css\");\n      Bokeh.embed.inject_css(\"https://cdn.pydata.org/bokeh/release/bokeh-widgets-0.12.16.min.css\");\n      console.log(\"Bokeh: injecting CSS: https://cdn.pydata.org/bokeh/release/bokeh-tables-0.12.16.min.css\");\n      Bokeh.embed.inject_css(\"https://cdn.pydata.org/bokeh/release/bokeh-tables-0.12.16.min.css\");\n    }\n  ];\n\n  function run_inline_js() {\n    \n    if ((root.Bokeh !== undefined) || (force === true)) {\n      for (var i = 0; i < inline_js.length; i++) {\n        inline_js[i].call(root, root.Bokeh);\n      }if (force === true) {\n        display_loaded();\n      }} else if (Date.now() < root._bokeh_timeout) {\n      setTimeout(run_inline_js, 100);\n    } else if (!root._bokeh_failed_load) {\n      console.log(\"Bokeh: BokehJS failed to load within specified timeout.\");\n      root._bokeh_failed_load = true;\n    } else if (force !== true) {\n      var cell = $(document.getElementById(\"d683f90c-8c4b-4c60-b4b4-5949e45cd736\")).parents('.cell').data().cell;\n      cell.output_area.append_execute_result(NB_LOAD_WARNING)\n    }\n\n  }\n\n  if (root._bokeh_is_loading === 0) {\n    console.log(\"Bokeh: BokehJS loaded, going straight to plotting\");\n    run_inline_js();\n  } else {\n    load_libs(js_urls, function() {\n      console.log(\"Bokeh: BokehJS plotting callback run at\", now());\n      run_inline_js();\n    });\n  }\n}(window));"
     },
     "metadata": {},
     "output_type": "display_data"
    }
   ],
   "source": [
    "import bokeh\n",
    "import bokeh.plotting as bp\n",
    "bokeh.io.output_notebook()"
   ]
  },
  {
   "cell_type": "markdown",
   "metadata": {},
   "source": [
    "The latest runs are here:"
   ]
  },
  {
   "cell_type": "code",
   "execution_count": 4,
   "metadata": {},
   "outputs": [
    {
     "data": {
      "text/plain": [
       "['cove-edges-constituent-ontonotes',\n",
       " 'glove-edges-constituent-ontonotes',\n",
       " 'cove-edges-coref-ontonotes-conll',\n",
       " 'glove-edges-coref-ontonotes-conll',\n",
       " 'cove-edges-dep-labeling-ewt',\n",
       " 'glove-edges-dep-labeling-ewt',\n",
       " 'elmo-chars-edges-constituent-ontonotes',\n",
       " 'elmo-full-edges-constituent-ontonotes',\n",
       " 'elmo-chars-edges-coref-ontonotes-conll',\n",
       " 'elmo-full-edges-coref-ontonotes-conll',\n",
       " 'elmo-chars-edges-dep-labeling-ewt',\n",
       " 'elmo-full-edges-dep-labeling-ewt',\n",
       " 'cove-edges-dpr',\n",
       " 'cove-edges-ner-ontonotes',\n",
       " 'cove-edges-spr2',\n",
       " 'cove-edges-srl-conll2012',\n",
       " 'elmo-chars-edges-dpr',\n",
       " 'elmo-chars-edges-ner-ontonotes',\n",
       " 'elmo-chars-edges-spr2',\n",
       " 'elmo-chars-edges-srl-conll2012',\n",
       " 'elmo-full-edges-dpr',\n",
       " 'elmo-full-edges-ner-ontonotes',\n",
       " 'elmo-full-edges-spr2',\n",
       " 'elmo-full-edges-srl-conll2012',\n",
       " 'glove-edges-dpr',\n",
       " 'glove-edges-ner-ontonotes',\n",
       " 'glove-edges-spr2',\n",
       " 'glove-edges-srl-conll2012']"
      ]
     },
     "execution_count": 4,
     "metadata": {},
     "output_type": "execute_result"
    }
   ],
   "source": [
    "top_expt_dir = \"/nfs/jsalt/home/iftenney/exp/edges-20180902/\"\n",
    "all_expt_dirs = os.listdir(top_expt_dir)\n",
    "all_expt_dirs"
   ]
  },
  {
   "cell_type": "code",
   "execution_count": 5,
   "metadata": {},
   "outputs": [
    {
     "data": {
      "text/plain": [
       "{'edges-constituent-ontonotes',\n",
       " 'edges-coref-ontonotes-conll',\n",
       " 'edges-dep-labeling-ewt',\n",
       " 'edges-dpr',\n",
       " 'edges-ner-ontonotes',\n",
       " 'edges-spr2',\n",
       " 'edges-srl-conll2012'}"
      ]
     },
     "execution_count": 5,
     "metadata": {},
     "output_type": "execute_result"
    }
   ],
   "source": [
    "task_names = {re.sub(r\"^(elmo-\\w+-)|(train-(full-|chars-)?)|((cove|glove)-)\", \"\", s) \n",
    "              for s in all_expt_dirs}\n",
    "task_names"
   ]
  },
  {
   "cell_type": "code",
   "execution_count": 6,
   "metadata": {},
   "outputs": [
    {
     "data": {
      "text/plain": [
       "{'cove-', 'elmo-chars-', 'elmo-full-', 'glove-'}"
      ]
     },
     "execution_count": 6,
     "metadata": {},
     "output_type": "execute_result"
    }
   ],
   "source": [
    "prefixes = {re.sub(\"-edges-.*\", \"-\", s) for s in all_expt_dirs}\n",
    "prefixes"
   ]
  },
  {
   "cell_type": "code",
   "execution_count": 7,
   "metadata": {},
   "outputs": [],
   "source": [
    "from IPython.display import display\n",
    "import ipywidgets as widgets"
   ]
  },
  {
   "cell_type": "code",
   "execution_count": 8,
   "metadata": {},
   "outputs": [
    {
     "data": {
      "application/vnd.jupyter.widget-view+json": {
       "model_id": "f7d13db94c9a4ab9bf221dba493345d2",
       "version_major": 2,
       "version_minor": 0
      },
      "text/plain": [
       "interactive(children=(Dropdown(description='prefix', options=('glove-', 'cove-', 'elmo-full-', 'elmo-chars-'),…"
      ]
     },
     "metadata": {},
     "output_type": "display_data"
    },
    {
     "data": {
      "text/plain": [
       "<function __main__.print_info(prefix, task_name)>"
      ]
     },
     "execution_count": 8,
     "metadata": {},
     "output_type": "execute_result"
    }
   ],
   "source": [
    "def get_log(prefix, task_name, run_name=\"run\"):\n",
    "    log_path = os.path.join(top_expt_dir, prefix + task_name,\n",
    "                            run_name, \"log.log\")\n",
    "    if not os.path.exists(log_path):\n",
    "        log_path = os.path.join(top_expt_dir, prefix + task_name,\n",
    "                                run_name + \"_seed_0\", \"log.log\")\n",
    "    with open(log_path) as fd:\n",
    "        return list(fd)\n",
    "\n",
    "def get_results(prefix, task_name):\n",
    "    results_path = os.path.join(top_expt_dir, prefix + task_name,\n",
    "                                \"results.tsv\")\n",
    "    with open(results_path) as fd:\n",
    "        return \"\\n\".join(fd).replace(\"\\t\", \"\\n\").replace(\", \", \"\\n\")\n",
    "    \n",
    "def print_info(prefix, task_name):\n",
    "    lines = get_log(prefix, task_name)\n",
    "    for line in lines:\n",
    "        if line.startswith(f\"Trained {task_name} for\"):\n",
    "            print(line)\n",
    "    print(get_results(prefix, task_name))\n",
    "    \n",
    "\n",
    "# Make a stupid little GUI\n",
    "widgets.interact(print_info, prefix=prefixes,\n",
    "                 task_name=task_names)"
   ]
  },
  {
   "cell_type": "code",
   "execution_count": 9,
   "metadata": {},
   "outputs": [
    {
     "data": {
      "application/vnd.jupyter.widget-view+json": {
       "model_id": "dc1ccbd227894379babc801c3b5b0b24",
       "version_major": 2,
       "version_minor": 0
      },
      "text/plain": [
       "interactive(children=(Dropdown(description='prefix', options=('glove-', 'cove-', 'elmo-full-', 'elmo-chars-'),…"
      ]
     },
     "metadata": {},
     "output_type": "display_data"
    },
    {
     "data": {
      "text/plain": [
       "<function __main__.print_table(prefix)>"
      ]
     },
     "execution_count": 9,
     "metadata": {},
     "output_type": "execute_result"
    }
   ],
   "source": [
    "def format_info(prefix, task_name, sep=\",\"):\n",
    "    for line in get_log(prefix, task_name):\n",
    "        if line.startswith(f\"Trained {task_name} for\"):\n",
    "            m = re.match(r\"Trained [\\w-]+ for (\\d+) batches or (.+) epochs\\w*\", line)\n",
    "            print(m.group(1), sep, m.group(2), end=sep)\n",
    "            break\n",
    "    for line in get_results(prefix, task_name).split(\"\\n\"):\n",
    "        if line.startswith(f\"{task_name}_mcc: \"):\n",
    "            print(line.replace(f\"{task_name}_mcc: \", \"\"), end=sep)\n",
    "        if line.startswith(f\"{task_name}_f1: \"):\n",
    "            print(line.replace(f\"{task_name}_f1: \", \"\"))\n",
    "\n",
    "def print_table(prefix):\n",
    "    sep=\", \"\n",
    "    assert prefix in prefixes\n",
    "    for task_name in sorted(task_names):\n",
    "        if task_name == \"junk\":\n",
    "            continue\n",
    "        print(task_name, end=sep)\n",
    "        try:\n",
    "            format_info(prefix, task_name, sep=sep)\n",
    "        except IOError:\n",
    "            print(\"<run not found>\")\n",
    "            \n",
    "# prefix = \"elmo-ortho-\"\n",
    "widgets.interact(print_table, prefix=prefixes)"
   ]
  },
  {
   "cell_type": "markdown",
   "metadata": {},
   "source": [
    "# Multi-Way Bar Plots"
   ]
  },
  {
   "cell_type": "code",
   "execution_count": null,
   "metadata": {},
   "outputs": [],
   "source": [
    "import datetime\n",
    "import socket\n",
    "def get_compact_timestamp():\n",
    "    now = datetime.datetime.now()\n",
    "    return now.strftime(\"%Y%m%d.%H%M%S\")"
   ]
  },
  {
   "cell_type": "code",
   "execution_count": null,
   "metadata": {},
   "outputs": [],
   "source": [
    "import analysis\n",
    "reload(analysis)\n",
    "\n",
    "task_name = \"edges-srl-conll2005\"\n",
    "# task_name = \"edges-spr2\"\n",
    "# task_name = \"edges-coref-ontonotes\"\n",
    "# task_name = \"edges-dep-labeling\"\n",
    "# task_name = \"edges-ner-conll2003\"\n",
    "\n",
    "runs_by_name = collections.OrderedDict()\n",
    "# for prefix in prefixes:\n",
    "for prefix in [\"elmo-chars-\", \"elmo-ortho-\", \"elmo-full-\", \"train-\", \"train-full-\"]:\n",
    "    run_name = \"run_seed_0\" if prefix == \"elmo-ortho-\" else \"run\"\n",
    "    run_path = os.path.join(top_expt_dir, prefix + task_name, run_name)\n",
    "    if not os.path.exists(run_path):\n",
    "        print(\"Path %s does not exist, skipping.\" % run_path)\n",
    "        continue\n",
    "    name = prefix.strip('-').replace(\"elmo-\", \"\")\n",
    "    if name == \"ortho\":\n",
    "        name = \"random-ortho\"\n",
    "    runs_by_name[name] = analysis.Predictions.from_run(run_path, task_name, \"val\")"
   ]
  },
  {
   "cell_type": "code",
   "execution_count": null,
   "metadata": {
    "scrolled": false
   },
   "outputs": [],
   "source": [
    "reload(analysis)\n",
    "if task_name.startswith(\"edges-srl\"):\n",
    "    # Filter out references and continuations, because these are mostly noise.\n",
    "    label_filter = lambda label: not (label.startswith(\"R-\") or label.startswith(\"C-\"))\n",
    "#                                       or label in [\"AM-PRD\", \"AM-REC\", \"AM-TM\"])\n",
    "else:\n",
    "    label_filter = lambda label: True\n",
    "mc = analysis.MultiComparison(runs_by_name, label_filter=label_filter)\n",
    "\n",
    "# SORT_FIELD=\"f1_score\"\n",
    "SORT_FIELD = \"label\"\n",
    "# SORT_FIELD = \"true_count\"\n",
    "SORT_RUN=\"full\"\n",
    "cmap = {'chars': \"#93C47D\",\n",
    "        'random-ortho': \"#B4A7D6\",\n",
    "        'full' : \"#6D9EEB\",\n",
    "        'train': \"#F46D43\",\n",
    "        'train-full': \"#D53E4F\"}\n",
    "p = mc.plot_scores(task_name, sort_field=SORT_FIELD, sort_run=SORT_RUN, row_height=450,\n",
    "                   sort_ascending=(SORT_FIELD == 'label'), cmap=cmap)\n",
    "\n",
    "# comp = analysis.Comparison(base=runs_by_name['chars'],\n",
    "#                            expt=runs_by_name['full'])\n",
    "# p = comp.plot_scores(task_name, sort_field=SORT_FIELD, row_height=350,\n",
    "#                      sort_ascending=(SORT_FIELD == 'label'), palette=[cmap['chars'], cmap['full']])\n",
    "\n",
    "# Save plot to bucket\n",
    "now = get_compact_timestamp()\n",
    "key_string = \".\".join(runs_by_name.keys())\n",
    "fname = f\"chart.{task_name}.{key_string}.{now:s}.html\"\n",
    "hostname = socket.gethostname()\n",
    "title = f\"{task_name}\"\n",
    "bp.save(p, os.path.join(\"/tmp\", fname), title=title, resources=bokeh.resources.CDN)\n",
    "!gsutil cp /tmp/$fname gs://jsalt-scratch/$hostname/plots/$fname\n",
    "!gsutil acl ch -u AllUsers:R gs://jsalt-scratch/$hostname/plots/$fname\n",
    "print(f\"Public URL: https://storage.googleapis.com/jsalt-scratch/{hostname}/plots/{fname}\")\n",
    "\n",
    "bp.show(p)"
   ]
  },
  {
   "cell_type": "markdown",
   "metadata": {},
   "source": [
    "## Look at examples for particular labels"
   ]
  },
  {
   "cell_type": "code",
   "execution_count": null,
   "metadata": {},
   "outputs": [],
   "source": [
    "base = runs_by_name['random-ortho']\n",
    "expt = runs_by_name['full']\n",
    "\n",
    "mdf = pd.merge(base.target_df_long, expt.target_df_long, \n",
    "               on=['idx', 'span1', 'span2', 'label'], suffixes=(\".base\", \".expt\"))\n",
    "mdf.head()"
   ]
  },
  {
   "cell_type": "code",
   "execution_count": null,
   "metadata": {},
   "outputs": [],
   "source": [
    "reload(analysis)\n",
    "\n",
    "def show_target(row):\n",
    "    r = {}\n",
    "    r['text'] = row['text']\n",
    "    r['targets'] = [\n",
    "        {'span1': row['span1'], 'span2': row.get('span2', []), \n",
    "         'label':[\"base\", \"{:.02f}\".format(row['preds.proba.base'])]},\n",
    "        {'span1': row['span1'], 'span2': row.get('span2', []), \n",
    "         'label':[\"expt\", \"{:.02f}\".format(row['preds.proba.expt'])]},\n",
    "    ]\n",
    "    print(analysis.EdgeProbingExample(r))\n",
    "\n",
    "_mask = mdf['label'] == \"AM-LOC\"\n",
    "_mask &= mdf['label.true.base']\n",
    "# _mask &= (mdf['preds.proba.base'] >= 0.5) != (mdf['preds.proba.expt'] >= 0.5)\n",
    "\n",
    "_selected_df = mdf[_mask].copy()\n",
    "_selected_df['text'] = [base.example_df.loc[i, 'text'] for i in _selected_df['idx']]\n",
    "\n",
    "def print_info(i):\n",
    "    show_target(_selected_df.iloc[i])\n",
    "\n",
    "widgets.interact(print_info, i={t:i for i,t in enumerate(_selected_df['text'])})"
   ]
  },
  {
   "cell_type": "markdown",
   "metadata": {},
   "source": [
    "## Confusion Matricies"
   ]
  },
  {
   "cell_type": "code",
   "execution_count": null,
   "metadata": {},
   "outputs": [],
   "source": [
    "run = runs_by_name['chars']\n",
    "# labels = [l for l in run.all_labels if l.startswith(\"AM-\")]\n",
    "labels = run.all_labels\n",
    "N = len(labels)\n",
    "pmat = np.zeros((N,N), dtype=np.float32)\n",
    "for i, li in enumerate(labels):\n",
    "#     ti = run.target_df_wide['preds.proba.' + li] >= 0.5\n",
    "    ti = run.target_df_wide['label.true.' + li]\n",
    "    for j, lj in enumerate(labels):\n",
    "        pj = run.target_df_wide['preds.proba.' + lj]\n",
    "        pmat[i,j] = metrics.matthews_corrcoef(ti, pj >= 0.5)\n",
    "\n",
    "print(pmat.shape)"
   ]
  },
  {
   "cell_type": "code",
   "execution_count": null,
   "metadata": {},
   "outputs": [],
   "source": [
    "factors = labels\n",
    "p = bp.figure(title=\"Per-label cross correlation (MCC)\",\n",
    "              tooltips=[(\"value\", \"@image{.00}\")],\n",
    "              tools=\"hover\", x_range=factors, y_range=factors)\n",
    "p.xaxis.major_label_orientation = np.pi/2\n",
    "\n",
    "N = len(factors)\n",
    "xx, yy = np.indices((len(factors), len(factors)))\n",
    "# p.rect(xx.flat, yy.flat, color=pmat.flat, width=1, height=1)\n",
    "# palette=bokeh.palettes.Spectral11\n",
    "cmap = bokeh.models.LinearColorMapper(palette=\"RdYlBu11\", low=-1, high=1)\n",
    "p.image(image=[pmat], x=0, y=0, dw=N, dh=N, color_mapper=cmap)\n",
    "\n",
    "colorbar = bokeh.models.ColorBar(color_mapper=cmap, location=(0,0))\n",
    "p.add_layout(colorbar, 'right')\n",
    "bp.show(p)"
   ]
  },
  {
   "cell_type": "code",
   "execution_count": null,
   "metadata": {},
   "outputs": [],
   "source": []
  }
 ],
 "metadata": {
  "kernelspec": {
   "display_name": "Python 3",
   "language": "python",
   "name": "python3"
  },
  "language_info": {
   "codemirror_mode": {
    "name": "ipython",
    "version": 3
   },
   "file_extension": ".py",
   "mimetype": "text/x-python",
   "name": "python",
   "nbconvert_exporter": "python",
   "pygments_lexer": "ipython3",
   "version": "3.6.5"
  }
 },
 "nbformat": 4,
 "nbformat_minor": 2
}
